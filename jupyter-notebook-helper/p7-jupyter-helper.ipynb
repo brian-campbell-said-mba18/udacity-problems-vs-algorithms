{
 "cells": [
  {
   "cell_type": "markdown",
   "metadata": {},
   "source": [
    "# Problem 7 Jupyter Helper"
   ]
  },
  {
   "cell_type": "markdown",
   "metadata": {},
   "source": [
    "## HTTPRouter using a Trie\n",
    "For this exercise we are going to implement an HTTPRouter like you would find in a typical web server using the Trie data structure we learned previously.\n",
    "\n",
    "There are many different implementations of HTTP Routers such as regular expressions or simple string matching, but the Trie is an excellent and very efficient data structure for this purpose.\n",
    "\n",
    "The purpose of an HTTP Router is to take a URL path like \"/\", \"/about\", or \"/blog/2019-01-15/my-awesome-blog-post\" and figure out what content to return. In a dynamic web server, the content will often come from a block of code called a handler.\n",
    "\n",
    "First we need to implement a slightly different Trie than the one we used for autocomplete. Instead of simple words the Trie will contain a part of the http path at each node, building from the root node /\n",
    "\n",
    "In addition to a path though, we need to know which function will handle the http request. In a real router we would probably pass an instance of a class like Python's SimpleHTTPRequestHandler which would be responsible for handling requests to that path. For the sake of simplicity we will just use a string that we can print out to ensure we got the right handler\n",
    "\n",
    "We could split the path into letters similar to how we did the autocomplete Trie, but this would result in a Trie with a very large number of nodes and lengthy traversals if we have a lot of pages on our site. A more sensible way to split things would be on the parts of the path that are separated by slashes (\"/\"). A Trie with a single path entry of: \"/about/me\" would look like:\n",
    "\n",
    "(root, None) -> (\"about\", None) -> (\"me\", \"About Me handler\")\n",
    "\n",
    "We can also simplify our RouteTrie a bit by excluding the suffixes method and the endOfWord property on RouteTrieNodes. We really just need to insert and find nodes, and if a RouteTrieNode is not a leaf node, it won't have a handler which is fine."
   ]
  },
  {
   "cell_type": "code",
   "execution_count": 65,
   "metadata": {},
   "outputs": [],
   "source": [
    "# A RouteTrieNode will be similar to our autocomplete TrieNode... with one additional element, a handler.\n",
    "class RouteTrieNode:\n",
    "    def __init__(self, handler = None, current_pathparcel = '/'):\n",
    "        '''\n",
    "        Class Purpose: The purpose of this class is to provide the node\n",
    "            structure for the RouteTrie class.\n",
    "            \n",
    "        Init Variables:\n",
    "            self.handler = This is the hanlder for an HTTP route. It is\n",
    "                None by default.\n",
    "            self.current_path_parcel = This is the current part of path. A\n",
    "                full path is something like \"/home/about\". The \n",
    "                current_path_parcel is one of the following places in\n",
    "                the full path: \"/\", \"home\", or \"about\".\n",
    "            self.children = This is a dictionary repository of all the\n",
    "                children nodes of this node.\n",
    "        '''\n",
    "        self.handler = handler\n",
    "        self.children = {}\n",
    "        self.current_pathparcel = current_pathparcel\n",
    "    \n",
    "    def get_handler(self):\n",
    "        '''This returns the handler of the node.'''\n",
    "        return self.handler\n",
    "    \n",
    "    def set_handler(self, handler):\n",
    "        '''This sets the handler for the node'''\n",
    "        self.handler = handler\n",
    "    \n",
    "    def get_current_pathparcel(self):\n",
    "        '''This gets the current_pathparcel for the node.'''\n",
    "        return self.current_pathparcel\n",
    "    \n",
    "    def set_current_pathparcel(self, current_path_section):\n",
    "        '''This sets the current_pathparcel for the node.'''\n",
    "        self.current_pathparcel = current_path_section\n",
    "        \n",
    "    def has_children(self):\n",
    "        '''\n",
    "        This determines whether a node has children.\n",
    "        \n",
    "        Returns: True/False\n",
    "        '''\n",
    "        return len(self.children) > 0\n",
    "    \n",
    "    def get_child_node(self, path_parcel):\n",
    "        '''\n",
    "        If there is a child node, this function returns it,\n",
    "        otherwise it returns none.\n",
    "        '''\n",
    "        if self.children.get(path_parcel) != None:\n",
    "            return self.children[path_parcel]\n",
    "        \n",
    "        return None\n",
    "        \n",
    "    def insert_new_child_node(self, path_parcel):\n",
    "        '''\n",
    "        Function Purpose: This function inserts a new child node.\n",
    "        \n",
    "        Arguments:\n",
    "            path_parcel = A parcel of the entire http full path, this is\n",
    "                in string format.\n",
    "        \n",
    "        Returns: It doesn't return anything.\n",
    "        '''\n",
    "        # This creates a new node.\n",
    "        new_node = RouteTrieNode()\n",
    "        \n",
    "        # This sets the new_nodes current_pathparcel to path_parcel.\n",
    "        new_node.set_current_pathparcel(path_parcel)\n",
    "        \n",
    "        # This creates a new entry in the node's repostiory dictionary\n",
    "        # and sets that entry to the new_node, effectively inserting it.\n",
    "        self.children[path_parcel] = new_node\n",
    "    \n",
    "    def __repr__(self):\n",
    "        '''\n",
    "        Function Purpose: This is the formatted string that is returned when\n",
    "            print(RouteTrieNode) is called.\n",
    "        \n",
    "        Arguments: None\n",
    "        \n",
    "        Returns: The formatted string that prints when print(RouteTrieNode) is\n",
    "            called.\n",
    "        '''\n",
    "        return f'''\n",
    "        Node Path Parcel: ({self.get_current_pathparcel()})\n",
    "            Node Handler: ({self.get_handler()})\n",
    "        '''"
   ]
  },
  {
   "cell_type": "markdown",
   "metadata": {},
   "source": [
    "## Testing Node functionality"
   ]
  },
  {
   "cell_type": "code",
   "execution_count": 66,
   "metadata": {},
   "outputs": [],
   "source": [
    "idiot = RouteTrieNode()"
   ]
  },
  {
   "cell_type": "code",
   "execution_count": 67,
   "metadata": {},
   "outputs": [],
   "source": [
    "idiot.insert_new_child_node('moron')"
   ]
  },
  {
   "cell_type": "code",
   "execution_count": 68,
   "metadata": {},
   "outputs": [
    {
     "data": {
      "text/plain": [
       "\n",
       "        Node Path Parcel: (/)\n",
       "            Node Handler: (None)\n",
       "        "
      ]
     },
     "execution_count": 68,
     "metadata": {},
     "output_type": "execute_result"
    }
   ],
   "source": [
    "idiot"
   ]
  },
  {
   "cell_type": "code",
   "execution_count": 69,
   "metadata": {},
   "outputs": [
    {
     "data": {
      "text/plain": [
       "\n",
       "        Node Path Parcel: (moron)\n",
       "            Node Handler: (None)\n",
       "        "
      ]
     },
     "execution_count": 69,
     "metadata": {},
     "output_type": "execute_result"
    }
   ],
   "source": [
    "idiot.get_child_node('moron')"
   ]
  },
  {
   "cell_type": "code",
   "execution_count": 70,
   "metadata": {},
   "outputs": [
    {
     "name": "stdout",
     "output_type": "stream",
     "text": [
      "None\n"
     ]
    }
   ],
   "source": [
    "print(idiot.get_child_node(\"smart child\"))"
   ]
  },
  {
   "cell_type": "code",
   "execution_count": 71,
   "metadata": {},
   "outputs": [],
   "source": [
    "# A RouteTrie will store our routes and their associated handlers\n",
    "class RouteTrie:\n",
    "    def __init__(self, handler = None):\n",
    "        '''\n",
    "        Class Purpose: This is the data structure for the class Router, a \n",
    "        RouteTrie.\n",
    "        \n",
    "        Init Variables:\n",
    "            self.root = This is the root node of the RouteTrie, and it is\n",
    "                a RouteTrieNode object. By default, the handler is set to\n",
    "                None.\n",
    "        '''\n",
    "        self.root = RouteTrieNode(handler)\n",
    "        \n",
    "    def get_root(self):\n",
    "        '''This function returns the root of the RouteTrie.'''\n",
    "        return self.root\n",
    "    \n",
    "    def insert_fullpath(self, fullpath):\n",
    "        '''\n",
    "        Function Purpose: This creates an HTTP path.\n",
    "        \n",
    "        Arguments:\n",
    "            fullpath = This is list of path parcels that is used to create\n",
    "                nodes at each path parcel.\n",
    "        \n",
    "        Returns: The end node in the fullpath, AKA, the node at the very\n",
    "            last path parcel.\n",
    "        '''\n",
    "        \n",
    "        # This creates the current_node for the for loop.\n",
    "        current_node = self.root\n",
    "        \n",
    "        # If the root node is querried, the root node is retuned.\n",
    "        if (fullpath == '/') and (current_node.get_current_pathparcel() == '/'):\n",
    "            return current_node\n",
    "        \n",
    "        # The for loop inserts a node at each path parcel point in the\n",
    "        # full path.\n",
    "        for path_part in fullpath:\n",
    "            if current_node.get_child_node(path_part) == None:\n",
    "                current_node.insert_new_child_node(path_part)\n",
    "            current_node = current_node.get_child_node(path_part)\n",
    "        \n",
    "        # Once the for loop has traversed through full path, the last node\n",
    "        # in the full path is returned.\n",
    "        return current_node\n",
    "    \n",
    "    def find_node(self, fullpath):\n",
    "        '''\n",
    "        Function Purpose: This returns the node given the full path.\n",
    "        \n",
    "        Arguments:\n",
    "            fullpath: This is a list of path parcels that is followed to find\n",
    "                a node.\n",
    "            \n",
    "        Returns: If the for loop traverses every path parcel, this returns\n",
    "            the node given the full path. If the full path doesn't exist,\n",
    "            this function returns None.\n",
    "        '''\n",
    "        # The current_node is set to self.root for the for loop.\n",
    "        current_node = self.root\n",
    "        \n",
    "        # If the root node is querried, the root node is returned.\n",
    "        if (fullpath == '/') and (current_node.get_current_pathparcel() == '/'):\n",
    "            return current_node\n",
    "        \n",
    "        # The for loop traverses the full path. If a path_part does not \n",
    "        # exist, then the loop breaks and None is returned.\n",
    "        for path_part in fullpath:\n",
    "            if current_node.children.get(path_part) == None:\n",
    "                return None\n",
    "            current_node = current_node.get_child_node(path_part)\n",
    "        \n",
    "        # If all path_parts exist and the for loop does not break, this\n",
    "        # returns the current_node at the end of fullpath.\n",
    "        return current_node\n",
    "    \n",
    "            \n",
    "    def find_handler(self, fullpath):\n",
    "        '''\n",
    "        Function Purpose: This returns the handler of a node at the end of\n",
    "            the full path.\n",
    "        \n",
    "        Arguments: \n",
    "            fullpath = This is a list of path parcels that is folled to find\n",
    "            a node and its handler.\n",
    "        \n",
    "        Returns: If the full path exists, the handler for the node is\n",
    "            returned. However, some nodes do not have handlers, and\n",
    "            a null_handler is returned. Also, if the fullpath and node\n",
    "            do not exist, the null_handler is returned.\n",
    "        '''\n",
    "        # This sets the current_node to self.root for the for loop.\n",
    "        current_node = self.root\n",
    "        \n",
    "        # In the event that there is no node, or there is a node but there\n",
    "        # is not handler, the null_handler will be returned.\n",
    "        null_handler = \"not found handler\"\n",
    "        \n",
    "        # This conditional is for when the root node is querried.\n",
    "        if (fullpath == '/') and (current_node.get_current_pathparcel() == '/'):\n",
    "            # If there is no handler, the null_handler is returned.\n",
    "            if current_node.get_handler() == None:\n",
    "                return null_handler\n",
    "            # If there is a handler, the handler is returned.\n",
    "            return current_node.get_handler()\n",
    "        \n",
    "        # This is for all other other handler queries other than the root node\n",
    "        # query. This for loop breaks if path_part in the full path does not\n",
    "        # exist.\n",
    "        for path_part in fullpath:\n",
    "            if current_node.get_child_node(path_part) == None:\n",
    "                return null_handler\n",
    "            current_node = current_node.get_child_node(path_part)\n",
    "        \n",
    "        # If the full path exists, but the node at the end of the full path\n",
    "        # does not have a handler, the null_handler is returned.\n",
    "        if current_node.get_handler() == None:\n",
    "            return null_handler\n",
    "        \n",
    "        # If the full path exists and the node at the end of the full path\n",
    "        # has a handler, the handler is returned.\n",
    "        return current_node.get_handler()\n"
   ]
  },
  {
   "cell_type": "markdown",
   "metadata": {},
   "source": [
    "## Test TrieRoute Functionality"
   ]
  },
  {
   "cell_type": "code",
   "execution_count": 72,
   "metadata": {},
   "outputs": [],
   "source": [
    "test_trie = RouteTrie()"
   ]
  },
  {
   "cell_type": "code",
   "execution_count": 73,
   "metadata": {},
   "outputs": [],
   "source": [
    "the_stupid_path = \"This is stupid\".split()"
   ]
  },
  {
   "cell_type": "code",
   "execution_count": 74,
   "metadata": {},
   "outputs": [
    {
     "data": {
      "text/plain": [
       "\n",
       "        Node Path Parcel: (stupid)\n",
       "            Node Handler: (None)\n",
       "        "
      ]
     },
     "execution_count": 74,
     "metadata": {},
     "output_type": "execute_result"
    }
   ],
   "source": [
    "test_trie.insert_fullpath(the_stupid_path)"
   ]
  },
  {
   "cell_type": "code",
   "execution_count": 75,
   "metadata": {},
   "outputs": [
    {
     "data": {
      "text/plain": [
       "\n",
       "        Node Path Parcel: (/)\n",
       "            Node Handler: (None)\n",
       "        "
      ]
     },
     "execution_count": 75,
     "metadata": {},
     "output_type": "execute_result"
    }
   ],
   "source": [
    "test_trie.get_root()"
   ]
  },
  {
   "cell_type": "code",
   "execution_count": 76,
   "metadata": {},
   "outputs": [
    {
     "data": {
      "text/plain": [
       "\n",
       "        Node Path Parcel: (/)\n",
       "            Node Handler: (None)\n",
       "        "
      ]
     },
     "execution_count": 76,
     "metadata": {},
     "output_type": "execute_result"
    }
   ],
   "source": [
    "test_trie.insert_fullpath('/')"
   ]
  },
  {
   "cell_type": "code",
   "execution_count": 77,
   "metadata": {},
   "outputs": [
    {
     "name": "stdout",
     "output_type": "stream",
     "text": [
      "None\n"
     ]
    }
   ],
   "source": [
    "print(test_trie.get_root().get_handler())"
   ]
  },
  {
   "cell_type": "code",
   "execution_count": 78,
   "metadata": {},
   "outputs": [
    {
     "data": {
      "text/plain": [
       "\n",
       "        Node Path Parcel: (/)\n",
       "            Node Handler: (None)\n",
       "        "
      ]
     },
     "execution_count": 78,
     "metadata": {},
     "output_type": "execute_result"
    }
   ],
   "source": [
    "test_trie.find_node('/')"
   ]
  },
  {
   "cell_type": "code",
   "execution_count": 79,
   "metadata": {},
   "outputs": [
    {
     "data": {
      "text/plain": [
       "\n",
       "        Node Path Parcel: (/)\n",
       "            Node Handler: (None)\n",
       "        "
      ]
     },
     "execution_count": 79,
     "metadata": {},
     "output_type": "execute_result"
    }
   ],
   "source": [
    "test_trie.insert_fullpath('/')"
   ]
  },
  {
   "cell_type": "code",
   "execution_count": 80,
   "metadata": {},
   "outputs": [
    {
     "data": {
      "text/plain": [
       "\n",
       "        Node Path Parcel: (stupid)\n",
       "            Node Handler: (None)\n",
       "        "
      ]
     },
     "execution_count": 80,
     "metadata": {},
     "output_type": "execute_result"
    }
   ],
   "source": [
    "test_trie.find_node(the_stupid_path)"
   ]
  },
  {
   "cell_type": "code",
   "execution_count": 81,
   "metadata": {},
   "outputs": [
    {
     "data": {
      "text/plain": [
       "'not found handler'"
      ]
     },
     "execution_count": 81,
     "metadata": {},
     "output_type": "execute_result"
    }
   ],
   "source": [
    "test_trie.find_handler(the_stupid_path)"
   ]
  },
  {
   "cell_type": "code",
   "execution_count": 82,
   "metadata": {},
   "outputs": [
    {
     "data": {
      "text/plain": [
       "\n",
       "        Node Path Parcel: (is)\n",
       "            Node Handler: (None)\n",
       "        "
      ]
     },
     "execution_count": 82,
     "metadata": {},
     "output_type": "execute_result"
    }
   ],
   "source": [
    "test_trie.find_node(the_stupid_path[:-1])"
   ]
  },
  {
   "cell_type": "code",
   "execution_count": 83,
   "metadata": {},
   "outputs": [
    {
     "data": {
      "text/plain": [
       "'not found handler'"
      ]
     },
     "execution_count": 83,
     "metadata": {},
     "output_type": "execute_result"
    }
   ],
   "source": [
    "test_trie.find_handler(the_stupid_path[:-1])"
   ]
  },
  {
   "cell_type": "markdown",
   "metadata": {},
   "source": [
    "Next we need to implement the actual Router. The router will initialize itself with a RouteTrie for holding routes and associated handlers. It should also support adding a handler by path and looking up a handler by path. All of these operations will be delegated to the RouteTrie.\n",
    "\n",
    "Hint: the RouteTrie stores handlers under path parts, so remember to split your path around the '/' character\n",
    "\n",
    "Bonus Points: Add a not found handler to your Router which is returned whenever a path is not found in the Trie.\n",
    "\n",
    "More Bonus Points: Handle trailing slashes! A request for '/about' or '/about/' are probably looking for the same page. Requests for '' or '/' are probably looking for the root handler. Handle these edge cases in your Router."
   ]
  },
  {
   "cell_type": "code",
   "execution_count": 84,
   "metadata": {},
   "outputs": [],
   "source": [
    "# The Router class will wrap the Trie and handle \n",
    "class Router:\n",
    "    def __init__(self, handler = None):\n",
    "        '''\n",
    "        Class Purpose: This is a router. It's used to traverse a RouteTrie\n",
    "        and ammend it.\n",
    "        \n",
    "        Arguments: \n",
    "            handler = This sets the handler for the root node of the\n",
    "                RouteTrie. By default, the handler is None.\n",
    "        \n",
    "        Init Variables:\n",
    "            self.the_router = This creates a RouteTrie. It accepts the\n",
    "                argument, handler, to set the root node of the RouteTrie.\n",
    "                By default, the handler is None.\n",
    "        \n",
    "        '''\n",
    "        self.the_router = RouteTrie(handler)\n",
    "        \n",
    "    def add_handler(self, the_fullpath, the_handler):\n",
    "        '''\n",
    "        Function Purpose: This adds a handler to a full path.\n",
    "        \n",
    "        Arguments:\n",
    "            the_fullpath = This is the full path.\n",
    "            the_handler = This is the handler that is added to the node\n",
    "                at the end of the full path.\n",
    "                \n",
    "        Returns: Nothing.\n",
    "        '''\n",
    "        # This formats the full path so that it can add the handler.\n",
    "        lookup_path = self.split_path(the_fullpath)\n",
    "        \n",
    "        # This is an edge case. When the full_path is an empty string,\n",
    "        # this prints a message saying that a path must be entered.\n",
    "        if len(lookup_path) < 1:\n",
    "            return \"A path must be entered to add a handler\"\n",
    "        \n",
    "        # This creates the full path and the node at the end of the\n",
    "        # full path.\n",
    "        node = self.the_router.insert_fullpath(lookup_path)\n",
    "        \n",
    "        # This sets the end node's handler to the_handler.\n",
    "        node.set_handler(the_handler)\n",
    "    \n",
    "    def is_string(self, the_string):\n",
    "        return type(the_string) == str\n",
    "    \n",
    "    def lookup(self, the_fullpath):\n",
    "        '''\n",
    "        Function Purpose: This looks up a handler for a given full path.\n",
    "        \n",
    "        Argument:\n",
    "            the_fullpath = This is the full path.\n",
    "        \n",
    "        Returns: This returns a handler if there is one, and a null_handler\n",
    "            if there is no handler to return.\n",
    "        '''\n",
    "        # This puts the_fullpath in a format that can be used to look up\n",
    "        # the handler.\n",
    "        lookup_path = self.split_path(the_fullpath)\n",
    "        \n",
    "        # In the edge case in which an empty string was input as\n",
    "        # the_fullpath, this returns a message saying that a path\n",
    "        # msut be entered.\n",
    "        if len(lookup_path) < 1:\n",
    "            return \"A path must be entered to return a handler\"\n",
    "        \n",
    "        # This either returns the handler or the null_handler.\n",
    "        return self.the_router.find_handler(lookup_path)\n",
    "\n",
    "    def split_path(self, string_fullpath):\n",
    "        '''\n",
    "        Function purpose: This takes a string and separates it into a list\n",
    "            of path parcels.\n",
    "        \n",
    "        Arguments:\n",
    "            string_fullpath: This takes the string version of the full path\n",
    "                and breaks it up into a list of path parcels. \n",
    "                \n",
    "        Returns:\n",
    "            This usually returns a list of path parcels. There are two\n",
    "            exceptions when string_fullpath is '/' or ''.\n",
    "        '''\n",
    "        # This makes the string lower case.\n",
    "        string_fullpath = string_fullpath.lower()\n",
    "        \n",
    "        # If the string is \"/\" we simply return \"/\" for a root node query.\n",
    "        if string_fullpath == '/':\n",
    "            return string_fullpath\n",
    "        \n",
    "        # If the string is '', \n",
    "        if len(string_fullpath) == '':\n",
    "            return string_fullpath\n",
    "        \n",
    "        # For normal full paths, the '/' at the beginning of the full\n",
    "        # path is deleted.\n",
    "        if string_fullpath[0] == '/':\n",
    "            string_fullpath = string_fullpath[1:]\n",
    "        \n",
    "        # There are edge cases in which the query ends with \"/\", this\n",
    "        # deletes the '/' at the end to handle the edge cases.\n",
    "        if string_fullpath[-1] == '/':\n",
    "            string_fullpath = string_fullpath[:-1]\n",
    "        \n",
    "        # This creates the list of path parcels from the full path.\n",
    "        full_path_list = string_fullpath.split('/')\n",
    "        \n",
    "        # This returns the list of path parcels from the full path.\n",
    "        return full_path_list"
   ]
  },
  {
   "cell_type": "markdown",
   "metadata": {},
   "source": [
    "## List .split() experimentation"
   ]
  },
  {
   "cell_type": "code",
   "execution_count": 85,
   "metadata": {},
   "outputs": [],
   "source": [
    "string_test = '/This/is/a/test/'"
   ]
  },
  {
   "cell_type": "code",
   "execution_count": 86,
   "metadata": {},
   "outputs": [],
   "source": [
    "string_list = string_test.split('/')"
   ]
  },
  {
   "cell_type": "code",
   "execution_count": 87,
   "metadata": {
    "scrolled": true
   },
   "outputs": [
    {
     "data": {
      "text/plain": [
       "['', 'This', 'is', 'a', 'test', '']"
      ]
     },
     "execution_count": 87,
     "metadata": {},
     "output_type": "execute_result"
    }
   ],
   "source": [
    "string_list"
   ]
  },
  {
   "cell_type": "code",
   "execution_count": 88,
   "metadata": {},
   "outputs": [],
   "source": [
    "test_router = Router()"
   ]
  },
  {
   "cell_type": "code",
   "execution_count": 89,
   "metadata": {},
   "outputs": [
    {
     "data": {
      "text/plain": [
       "['this', 'is', 'a', 'test']"
      ]
     },
     "execution_count": 89,
     "metadata": {},
     "output_type": "execute_result"
    }
   ],
   "source": [
    "test_router.split_path(string_test)"
   ]
  },
  {
   "cell_type": "code",
   "execution_count": 90,
   "metadata": {},
   "outputs": [
    {
     "data": {
      "text/plain": [
       "'/'"
      ]
     },
     "execution_count": 90,
     "metadata": {},
     "output_type": "execute_result"
    }
   ],
   "source": [
    "test_router.split_path('/')"
   ]
  },
  {
   "cell_type": "code",
   "execution_count": 91,
   "metadata": {
    "scrolled": true
   },
   "outputs": [
    {
     "data": {
      "text/plain": [
       "True"
      ]
     },
     "execution_count": 91,
     "metadata": {},
     "output_type": "execute_result"
    }
   ],
   "source": [
    "test_router.is_string(\"sta\")"
   ]
  },
  {
   "cell_type": "code",
   "execution_count": 92,
   "metadata": {},
   "outputs": [],
   "source": [
    "zero = ''"
   ]
  },
  {
   "cell_type": "code",
   "execution_count": 93,
   "metadata": {},
   "outputs": [
    {
     "data": {
      "text/plain": [
       "0"
      ]
     },
     "execution_count": 93,
     "metadata": {},
     "output_type": "execute_result"
    }
   ],
   "source": [
    "len(zero)"
   ]
  },
  {
   "cell_type": "markdown",
   "metadata": {},
   "source": [
    "## Test Cases"
   ]
  },
  {
   "cell_type": "code",
   "execution_count": 94,
   "metadata": {},
   "outputs": [
    {
     "name": "stdout",
     "output_type": "stream",
     "text": [
      "FOUR NORMAL TEST CASES:\n",
      "root handler\n",
      "not found handler\n",
      "about handler\n",
      "not found handler\n",
      "__________________________________________________ \n",
      "\n",
      "TWO EDGE CASES:\n",
      "about handler\n",
      "A path must be entered to return a handler\n"
     ]
    }
   ],
   "source": [
    "# Here are some test cases and expected outputs you can use to test your implementation\n",
    "\n",
    "# create the router and add a route\n",
    "router = Router(\"root handler\") # remove the 'not found handler' if you did not implement this\n",
    "router.add_handler(\"/home/about\", \"about handler\")  # add a route\n",
    "\n",
    "# some lookups with the expected output\n",
    "# These are four boilerplate examples from Udacity.\n",
    "print(\"FOUR NORMAL TEST CASES:\")\n",
    "print(router.lookup(\"/\")) # should print 'root handler'\n",
    "print(router.lookup(\"/home\")) # should print 'not found handler' or None if you did not implement one\n",
    "print(router.lookup(\"/home/about\")) # should print 'about handler'\n",
    "print(router.lookup(\"/home/about/me\")) # should print 'not found handler' or None if you did not implement one\n",
    "print(\"__________________________________________________\", \"\\n\")\n",
    "\n",
    "print(\"TWO EDGE CASES:\")\n",
    "print(router.lookup(\"/home/about/\")) # should print 'about handler' or None if you did not handle trailing slashes\n",
    "print(router.lookup('')) # This should pring \"A path must be entered to return a handler\""
   ]
  },
  {
   "cell_type": "code",
   "execution_count": null,
   "metadata": {},
   "outputs": [],
   "source": []
  },
  {
   "cell_type": "code",
   "execution_count": 95,
   "metadata": {},
   "outputs": [],
   "source": [
    "# REFERENCES\n",
    "# 1. Udacity Data Structures & Algorithms Nanodegree; 3) Basic Algorithms; \n",
    "#        1) Basic Algorithms; 6) Tries\n",
    "# 2. Udacity Data Structures & Algorithms Nanodegree; 3) Basic Algorithms; \n",
    "#        4) Problems Vs Algorithms; 8) Problem 7: Request Routing in a Web\n",
    "#        Server with a Trie"
   ]
  }
 ],
 "metadata": {
  "kernelspec": {
   "display_name": "Python 3",
   "language": "python",
   "name": "python3"
  },
  "language_info": {
   "codemirror_mode": {
    "name": "ipython",
    "version": 3
   },
   "file_extension": ".py",
   "mimetype": "text/x-python",
   "name": "python",
   "nbconvert_exporter": "python",
   "pygments_lexer": "ipython3",
   "version": "3.7.4"
  }
 },
 "nbformat": 4,
 "nbformat_minor": 2
}
