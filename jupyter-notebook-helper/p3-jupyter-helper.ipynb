{
 "cells": [
  {
   "cell_type": "markdown",
   "metadata": {},
   "source": [
    "# Problem 3 Jupyter Helper"
   ]
  },
  {
   "cell_type": "markdown",
   "metadata": {},
   "source": [
    "## Merge Function"
   ]
  },
  {
   "cell_type": "code",
   "execution_count": 144,
   "metadata": {},
   "outputs": [],
   "source": [
    "def merge_helper(left, right):\n",
    "    '''\n",
    "    Helper Function Purpose: This function merges 2 python lists, left\n",
    "        and right, which contain integer values. This function compares\n",
    "        values of both lists, and appends them into a sorted list,\n",
    "        merge_list. This is a helper function for the function merge_sort.\n",
    "    \n",
    "    Arguments: Two lists with integer values, left and right. Both the left\n",
    "        and right list have been sorted before they were put into the\n",
    "        function.\n",
    "    \n",
    "    Returns: A new sorted list, merge_list.\n",
    "    '''\n",
    "    merge_list = []\n",
    "    left_index = 0\n",
    "    right_index = 0\n",
    "    \n",
    "    # This while loop compares integers in the left python list to integers\n",
    "    # in the right python list. The smaller of the the two integers is\n",
    "    # appended to the merge_list. The list in which the integer was\n",
    "    # extracted from has its index updated in order to update the while\n",
    "    # conditional after each iteration.\n",
    "    while (left_index < len(left)) and (right_index < len(right)):\n",
    "        if left[left_index] < right[right_index]:\n",
    "            merge_list.append(left[left_index])\n",
    "            left_index += 1\n",
    "        else:\n",
    "            merge_list.append(right[right_index])\n",
    "            right_index += 1\n",
    "    \n",
    "    # Once the while loop is broken, the remaining integers from the\n",
    "    # python list, right or left, that still has values is appended to\n",
    "    # the merge_list.\n",
    "    if left_index < len(left):\n",
    "        merge_list += left[left_index:]\n",
    "    else:\n",
    "        merge_list += right[right_index:]\n",
    "    \n",
    "    return merge_list"
   ]
  },
  {
   "cell_type": "markdown",
   "metadata": {},
   "source": [
    "## Merge_sort"
   ]
  },
  {
   "cell_type": "code",
   "execution_count": 145,
   "metadata": {},
   "outputs": [],
   "source": [
    "def merge_sort(arr):\n",
    "    '''\n",
    "    Function Purpose: This funciton sorts a 1-dimensional array through\n",
    "        recursion. The base case returns an array if the length of it is\n",
    "        <= 1. Otherwise, it continues to break arrays into two separates\n",
    "        that are eventually sorted and merged through a function called\n",
    "        merge_helper.\n",
    "        \n",
    "    Arguments: arr, an unsorted array.\n",
    "    \n",
    "    Returns: The sorted version of arr.\n",
    "    '''\n",
    "    # This is the base case.\n",
    "    if len(arr) <= 1:\n",
    "        return arr\n",
    "    \n",
    "    # This defines the midpoint and left and right arrays to be recursed.\n",
    "    midpoint = len(arr) // 2\n",
    "    left_side = arr[:midpoint]\n",
    "    right_side = arr[midpoint:]\n",
    "    \n",
    "    # This is the recursive case, the newly initiated left_side\n",
    "    # and right_side arrays are recursed. Once both sides have been\n",
    "    # fully recursed, this function then calls upon the merge_helper\n",
    "    # function to merge the two arrays.\n",
    "    left_side = merge_sort(left_side)\n",
    "    right_side = merge_sort(right_side)\n",
    "    return merge_helper(left_side, right_side)"
   ]
  },
  {
   "cell_type": "code",
   "execution_count": 146,
   "metadata": {},
   "outputs": [],
   "source": [
    "import random\n",
    "test_list = [i for i in range(0, 10, 1)]\n",
    "random.shuffle(test_list)"
   ]
  },
  {
   "cell_type": "code",
   "execution_count": 147,
   "metadata": {},
   "outputs": [
    {
     "data": {
      "text/plain": [
       "[5, 1, 4, 9, 6, 2, 7, 0, 3, 8]"
      ]
     },
     "execution_count": 147,
     "metadata": {},
     "output_type": "execute_result"
    }
   ],
   "source": [
    "test_list"
   ]
  },
  {
   "cell_type": "code",
   "execution_count": 148,
   "metadata": {},
   "outputs": [],
   "source": [
    "sorted_list = merge_sort(test_list)"
   ]
  },
  {
   "cell_type": "code",
   "execution_count": 149,
   "metadata": {},
   "outputs": [
    {
     "data": {
      "text/plain": [
       "[0, 1, 2, 3, 4, 5, 6, 7, 8, 9]"
      ]
     },
     "execution_count": 149,
     "metadata": {},
     "output_type": "execute_result"
    }
   ],
   "source": [
    "sorted_list"
   ]
  },
  {
   "cell_type": "code",
   "execution_count": 150,
   "metadata": {},
   "outputs": [
    {
     "data": {
      "text/plain": [
       "True"
      ]
     },
     "execution_count": 150,
     "metadata": {},
     "output_type": "execute_result"
    }
   ],
   "source": [
    "len(sorted_list) == len(test_list)"
   ]
  },
  {
   "cell_type": "markdown",
   "metadata": {},
   "source": [
    "## Get Grestest 2 integers."
   ]
  },
  {
   "cell_type": "code",
   "execution_count": 152,
   "metadata": {},
   "outputs": [],
   "source": [
    "def greatest_2_ints(sorted_array):\n",
    "    '''\n",
    "    Function Purpose: This takes a sorted list and finds two numbers that\n",
    "        are within 1 digit of each other in length that maximizes the sum \n",
    "        of the two numbers.\n",
    "        \n",
    "    Arguments: The sorted array, sorted_array.\n",
    "    \n",
    "    Returns: A list of two numbers that are within 1 digit in lenght and\n",
    "        and their sum is maximized.\n",
    "    '''\n",
    "    # This initiates the selection, number1, number2, beg_index, and \n",
    "    # end_index variables.\n",
    "    selection = 1\n",
    "    beg_index = len(sorted_array) * (-1)\n",
    "    end_index = -1\n",
    "    number1 = \"\"\n",
    "    number2 = \"\"\n",
    "    \n",
    "    # This while loop starts at the end of the sorted_array, where the\n",
    "    # greatest digit values are, and appends them to one of the two \n",
    "    # numbers number1 or number 2, depending upon the value of the\n",
    "    # variable, selection (selection changes every time after each\n",
    "    # iteration to ensure that both numbers are within 1 digit of each\n",
    "    # other and their sum is maximized).\n",
    "    while end_index >= beg_index:\n",
    "        if selection == 1:\n",
    "            number1 += str(sorted_array[end_index])\n",
    "            end_index -= 1\n",
    "            selection = 2\n",
    "            continue\n",
    "        \n",
    "        if selection ==2:\n",
    "            number2 += str(sorted_array[end_index])\n",
    "            end_index -= 1\n",
    "            selection = 1\n",
    "            continue\n",
    "    \n",
    "    return [int(number1), int(number2)]"
   ]
  },
  {
   "cell_type": "code",
   "execution_count": 153,
   "metadata": {},
   "outputs": [],
   "source": [
    "the_answer = greatest_2_ints(sorted_list)"
   ]
  },
  {
   "cell_type": "code",
   "execution_count": 154,
   "metadata": {},
   "outputs": [
    {
     "data": {
      "text/plain": [
       "[97531, 86420]"
      ]
     },
     "execution_count": 154,
     "metadata": {},
     "output_type": "execute_result"
    }
   ],
   "source": [
    "the_answer"
   ]
  },
  {
   "cell_type": "markdown",
   "metadata": {},
   "source": [
    "## Rearrange Digits Function"
   ]
  },
  {
   "cell_type": "code",
   "execution_count": 155,
   "metadata": {},
   "outputs": [],
   "source": [
    "def rearrange_digits(input_list):\n",
    "    \"\"\"\n",
    "    Rearrange Array Elements so as to form two number such that their sum is maximum.\n",
    "\n",
    "    Args:\n",
    "       input_list(list): Input List\n",
    "    Returns:\n",
    "       (int),(int): Two maximum sums\n",
    "    \"\"\"\n",
    "    # This sorts the input_list of integers. An integer in the list can\n",
    "    # only be one from the range (0,9) inclusive.\n",
    "    chronological_list = merge_sort(input_list)\n",
    "    \n",
    "    # This returns the two integers that are within 1 digit in length of\n",
    "    # each other and their sum is maximized.\n",
    "    return greatest_2_ints(chronological_list)\n",
    "    "
   ]
  },
  {
   "cell_type": "code",
   "execution_count": null,
   "metadata": {},
   "outputs": [],
   "source": []
  },
  {
   "cell_type": "code",
   "execution_count": null,
   "metadata": {},
   "outputs": [],
   "source": [
    "# References\n",
    "# 1. Mergesort reference needed\n",
    "# 2. https://classroom.udacity.com/nanodegrees/nd256/parts/da17de0f-f834-46f8-bb48-ee2705d95dc4/modules/bd252a0b-e9e7-473b-bcc1-bc7e3153568b/lessons/8ec390d0-e99d-44c0-88f9-f8f9faf467fc/concepts/78d9da01-98de-4b7d-aa80-23e0145e53b4"
   ]
  }
 ],
 "metadata": {
  "kernelspec": {
   "display_name": "Python 3",
   "language": "python",
   "name": "python3"
  },
  "language_info": {
   "codemirror_mode": {
    "name": "ipython",
    "version": 3
   },
   "file_extension": ".py",
   "mimetype": "text/x-python",
   "name": "python",
   "nbconvert_exporter": "python",
   "pygments_lexer": "ipython3",
   "version": "3.7.4"
  }
 },
 "nbformat": 4,
 "nbformat_minor": 2
}
