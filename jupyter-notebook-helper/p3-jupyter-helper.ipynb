{
 "cells": [
  {
   "cell_type": "markdown",
   "metadata": {},
   "source": [
    "# Problem 3 Jupyter Helper"
   ]
  },
  {
   "cell_type": "markdown",
   "metadata": {},
   "source": [
    "## Merge Function"
   ]
  },
  {
   "cell_type": "code",
   "execution_count": 139,
   "metadata": {},
   "outputs": [],
   "source": [
    "def merge_helper(left, right):\n",
    "    '''\n",
    "    Helper Function Purpose: This function merges 2 python lists, left\n",
    "        and right, which contain integer values. This function compares\n",
    "        values of both lists, and appends them into a sorted list,\n",
    "        merge_list. This is a helper function for the function merge_sort.\n",
    "    \n",
    "    Arguments: Two lists with integer values, left and right. Both the left\n",
    "        and right list have been sorted before they were put into the\n",
    "        function.\n",
    "    \n",
    "    Returns: A new sorted list, merge_list.\n",
    "    '''\n",
    "    merge_list = []\n",
    "    left_index = 0\n",
    "    right_index = 0\n",
    "    \n",
    "    # This while loop compares integers in the left python list to integers\n",
    "    # in the right python list. The smaller of the the two integers is\n",
    "    # appended to the merge_list. The list in which the integer was\n",
    "    # extracted from has its index updated in order to update the while\n",
    "    # conditional after each iteration.\n",
    "    while (left_index < len(left)) and (right_index < len(right)):\n",
    "        if left[left_index] < right[right_index]:\n",
    "            merge_list.append(left[left_index])\n",
    "            left_index += 1\n",
    "        else:\n",
    "            merge_list.append(right[right_index])\n",
    "            right_index += 1\n",
    "    \n",
    "    # Once the while loop is broken, the remaining integers from the\n",
    "    # python list, right or left, that still has values is appended to\n",
    "    # the merge_list.\n",
    "    if left_index < len(left):\n",
    "        merge_list += left[left_index:]\n",
    "    else:\n",
    "        merge_list += right[right_index:]\n",
    "    \n",
    "    return merge_list"
   ]
  },
  {
   "cell_type": "markdown",
   "metadata": {},
   "source": [
    "## Merge_sort"
   ]
  },
  {
   "cell_type": "code",
   "execution_count": 132,
   "metadata": {},
   "outputs": [],
   "source": [
    "def merge_sort(arr):\n",
    "    '''\n",
    "    Function Purpose: This funciton sorts a 1-dimensional array through\n",
    "        recursion. The base case returns an array if the length of it is\n",
    "        <= 1. Otherwise, it continues to break arrays into two separates\n",
    "        that are eventually sorted and merged through a function called\n",
    "        merge_helper.\n",
    "        \n",
    "    Arguments: arr, an unsorted array.\n",
    "    \n",
    "    Returns: The sorted version of arr.\n",
    "    '''\n",
    "    # This is the base case.\n",
    "    if len(arr) <= 1:\n",
    "        return arr\n",
    "    \n",
    "    # This defines the midpoint and left and right arrays to be recursed.\n",
    "    midpoint = len(arr) // 2\n",
    "    left_side = arr[:midpoint]\n",
    "    right_side = arr[midpoint:]\n",
    "    \n",
    "    # This is the recursive case, the newly initiated left_side\n",
    "    # and right_side arrays are recursed. Once both sides have been\n",
    "    # fully recursed, this function then calls upon the merge_helper\n",
    "    # function to merge the two arrays.\n",
    "    left_side = merge_sort(left_side)\n",
    "    right_side = merge_sort(right_side)\n",
    "    return merge_helper(left_side, right_side)"
   ]
  },
  {
   "cell_type": "code",
   "execution_count": 133,
   "metadata": {},
   "outputs": [],
   "source": [
    "import random\n",
    "test_list = [i for i in range(0, 10, 1)]\n",
    "random.shuffle(test_list)"
   ]
  },
  {
   "cell_type": "code",
   "execution_count": 134,
   "metadata": {},
   "outputs": [
    {
     "data": {
      "text/plain": [
       "[1, 3, 6, 7, 4, 0, 8, 9, 5, 2]"
      ]
     },
     "execution_count": 134,
     "metadata": {},
     "output_type": "execute_result"
    }
   ],
   "source": [
    "test_list"
   ]
  },
  {
   "cell_type": "code",
   "execution_count": 135,
   "metadata": {},
   "outputs": [
    {
     "name": "stdout",
     "output_type": "stream",
     "text": [
      "[1, 3]\n",
      "[4, 7]\n",
      "[4, 6, 7]\n",
      "[1, 3, 4, 6, 7]\n",
      "[0, 8]\n",
      "[2, 5]\n",
      "[2, 5, 9]\n",
      "[0, 2, 5, 8, 9]\n",
      "[0, 1, 2, 3, 4, 5, 6, 7, 8, 9]\n"
     ]
    }
   ],
   "source": [
    "sorted_list = merge_sort(test_list)"
   ]
  },
  {
   "cell_type": "code",
   "execution_count": 136,
   "metadata": {},
   "outputs": [
    {
     "data": {
      "text/plain": [
       "[0, 1, 2, 3, 4, 5, 6, 7, 8, 9]"
      ]
     },
     "execution_count": 136,
     "metadata": {},
     "output_type": "execute_result"
    }
   ],
   "source": [
    "sorted_list"
   ]
  },
  {
   "cell_type": "code",
   "execution_count": 137,
   "metadata": {},
   "outputs": [
    {
     "data": {
      "text/plain": [
       "True"
      ]
     },
     "execution_count": 137,
     "metadata": {},
     "output_type": "execute_result"
    }
   ],
   "source": [
    "len(sorted_list) == len(test_list)"
   ]
  },
  {
   "cell_type": "code",
   "execution_count": null,
   "metadata": {},
   "outputs": [],
   "source": [
    "# References\n",
    "# 1. Mergesort reference needed"
   ]
  }
 ],
 "metadata": {
  "kernelspec": {
   "display_name": "Python 3",
   "language": "python",
   "name": "python3"
  },
  "language_info": {
   "codemirror_mode": {
    "name": "ipython",
    "version": 3
   },
   "file_extension": ".py",
   "mimetype": "text/x-python",
   "name": "python",
   "nbconvert_exporter": "python",
   "pygments_lexer": "ipython3",
   "version": "3.7.4"
  }
 },
 "nbformat": 4,
 "nbformat_minor": 2
}
