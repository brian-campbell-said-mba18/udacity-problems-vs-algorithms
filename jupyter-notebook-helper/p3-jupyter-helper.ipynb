{
 "cells": [
  {
   "cell_type": "markdown",
   "metadata": {},
   "source": [
    "# Problem 3 Jupyter Helper"
   ]
  },
  {
   "cell_type": "markdown",
   "metadata": {},
   "source": [
    "## Merge Function"
   ]
  },
  {
   "cell_type": "code",
   "execution_count": 28,
   "metadata": {},
   "outputs": [],
   "source": [
    "def merge_helper(left, right):\n",
    "    '''\n",
    "    Helper Function Purpose: This function merges 2 python lists, left\n",
    "        and right, which contain integer values. This function compares\n",
    "        values of both lists, and appends them into a sorted list,\n",
    "        merge_list. This is a helper function for the function merge_sort.\n",
    "    \n",
    "    Arguments: Two lists with integer values, left and right. Both the left\n",
    "        and right list have been sorted before they were put into the\n",
    "        function.\n",
    "    \n",
    "    Returns: A new sorted list, merge_list.\n",
    "    '''\n",
    "    merge_list = []\n",
    "    left_index = 0\n",
    "    right_index = 0\n",
    "    \n",
    "    # This while loop compares \n",
    "    while (left_index < len(left)) and (right_index < len(right)):\n",
    "        if left[left_index] < right[right_index]:\n",
    "            merge_list.append(left[left_index])\n",
    "            left_index += 1\n",
    "        else:\n",
    "            merge_list.append(right[right_index])\n",
    "            right_index += 1\n",
    "    \n",
    "    if left_index < len(left):\n",
    "        merge_list += left[left_index:]\n",
    "    else:\n",
    "        merge_list += right[right_index:]\n",
    "    \n",
    "    return merge_list"
   ]
  },
  {
   "cell_type": "code",
   "execution_count": 29,
   "metadata": {},
   "outputs": [],
   "source": [
    "stupid = [5,3,2,6,31,3,4,3,2,1]\n",
    "\n",
    "idiot = [0,12,3,4,65,2,3,98,7,6]\n",
    "\n",
    "stupid.sort()\n",
    "idiot.sort()"
   ]
  },
  {
   "cell_type": "code",
   "execution_count": 30,
   "metadata": {},
   "outputs": [
    {
     "data": {
      "text/plain": [
       "[1, 2, 2, 3, 3, 3, 4, 5, 6, 31]"
      ]
     },
     "execution_count": 30,
     "metadata": {},
     "output_type": "execute_result"
    }
   ],
   "source": [
    "stupid"
   ]
  },
  {
   "cell_type": "code",
   "execution_count": 31,
   "metadata": {},
   "outputs": [
    {
     "data": {
      "text/plain": [
       "[0, 2, 3, 3, 4, 6, 7, 12, 65, 98]"
      ]
     },
     "execution_count": 31,
     "metadata": {},
     "output_type": "execute_result"
    }
   ],
   "source": [
    "idiot"
   ]
  },
  {
   "cell_type": "code",
   "execution_count": 32,
   "metadata": {},
   "outputs": [],
   "source": [
    "two_to_one = merge_helper(stupid, idiot)"
   ]
  },
  {
   "cell_type": "code",
   "execution_count": 33,
   "metadata": {},
   "outputs": [
    {
     "data": {
      "text/plain": [
       "[0, 1, 2, 2, 2, 3, 3, 3, 3, 3, 4, 4, 5, 6, 6, 7, 12, 31, 65, 98]"
      ]
     },
     "execution_count": 33,
     "metadata": {},
     "output_type": "execute_result"
    }
   ],
   "source": [
    "two_to_one"
   ]
  },
  {
   "cell_type": "code",
   "execution_count": 35,
   "metadata": {
    "scrolled": false
   },
   "outputs": [
    {
     "data": {
      "text/plain": [
       "True"
      ]
     },
     "execution_count": 35,
     "metadata": {},
     "output_type": "execute_result"
    }
   ],
   "source": [
    "len(stupid) + len(idiot) == len(two_to_one)"
   ]
  },
  {
   "cell_type": "markdown",
   "metadata": {},
   "source": [
    "## Merge_sort"
   ]
  },
  {
   "cell_type": "code",
   "execution_count": null,
   "metadata": {},
   "outputs": [],
   "source": []
  },
  {
   "cell_type": "code",
   "execution_count": null,
   "metadata": {},
   "outputs": [],
   "source": [
    "# References\n",
    "# 1. Mergesort reference needed"
   ]
  }
 ],
 "metadata": {
  "kernelspec": {
   "display_name": "Python 3",
   "language": "python",
   "name": "python3"
  },
  "language_info": {
   "codemirror_mode": {
    "name": "ipython",
    "version": 3
   },
   "file_extension": ".py",
   "mimetype": "text/x-python",
   "name": "python",
   "nbconvert_exporter": "python",
   "pygments_lexer": "ipython3",
   "version": "3.7.4"
  }
 },
 "nbformat": 4,
 "nbformat_minor": 2
}
