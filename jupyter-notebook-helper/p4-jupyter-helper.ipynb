{
 "cells": [
  {
   "cell_type": "markdown",
   "metadata": {},
   "source": [
    "# Problem 4 Jupyter Helper"
   ]
  },
  {
   "cell_type": "code",
   "execution_count": 69,
   "metadata": {},
   "outputs": [],
   "source": [
    "def sort_012(py_list_012, debug_mode = False):\n",
    "    '''\n",
    "    Function Purpose:\n",
    "    '''\n",
    "    assert type(py_list_012) == list, \"Not a list!\"\n",
    "    \n",
    "    current_index = 0\n",
    "    zero_index = 0\n",
    "    two_index = len(py_list_012) - 1\n",
    "    \n",
    "    while current_index <= two_index:\n",
    "        current_value = py_list_012[current_index]\n",
    "        if debug_mode:\n",
    "            print(f'''\n",
    "            The current index is ({current_index}) and the current value is\n",
    "            ({current_value}).\n",
    "            ''')\n",
    "        \n",
    "        if (current_value == 0) and (current_index == zero_index):\n",
    "            if debug_mode:\n",
    "                print(f'''\n",
    "                Both the current index and the zero index are equal, and the\n",
    "                current value is ({current_value}). INCREASING both the zero\n",
    "                and current indices.\n",
    "                ''')\n",
    "            current_index += 1\n",
    "            zero_index += 1\n",
    "            continue\n",
    "        \n",
    "        if (current_value == 0) and (current_index > zero_index):\n",
    "            if debug_mode:\n",
    "                print(f'''\n",
    "                The current value is ({current_value}). PLACING the current\n",
    "                value at the zero_index point and then ADDING 1 to the zero\n",
    "                index.\n",
    "                ''')\n",
    "            py_list_012[current_index] = py_list_012[zero_index]\n",
    "            py_list_012[zero_index] = current_value\n",
    "            zero_index += 1\n",
    "            continue\n",
    "            \n",
    "        if (current_value == 2) and (current_index == two_index):\n",
    "            if debug_mode:\n",
    "                print(f'''\n",
    "                The current value is ({current_value}), and we have reached\n",
    "                the end. Sorting complete and breaking loop!\n",
    "                ''')\n",
    "            break\n",
    "        \n",
    "        if (current_value == 2) and (current_index < two_index):\n",
    "            if debug_mode:\n",
    "                print(f'''\n",
    "                The current value is ({current_value}). PLACING the current\n",
    "                value at the two_index and then SUBTRACTING 1 from the\n",
    "                two_index.\n",
    "                ''')\n",
    "            py_list_012[current_index] = py_list_012[two_index]\n",
    "            py_list_012[two_index] = current_value\n",
    "            two_index -=1\n",
    "            continue\n",
    "        \n",
    "        if debug_mode:\n",
    "            print(f'''\n",
    "            The current value is ({current_value}). ADDING 1 to the current\n",
    "            index.\n",
    "            ''')\n",
    "        current_index += 1\n",
    "        \n",
    "    return py_list_012"
   ]
  },
  {
   "cell_type": "code",
   "execution_count": 70,
   "metadata": {},
   "outputs": [
    {
     "name": "stdout",
     "output_type": "stream",
     "text": [
      "[0, 0, 0, 1, 1, 1, 2, 2, 2, 2, 2]\n",
      "Pass\n",
      "[0, 0, 0, 0, 0, 0, 0, 0, 0, 0, 0, 1, 1, 1, 1, 1, 1, 2, 2, 2, 2, 2, 2, 2, 2, 2]\n",
      "Pass\n",
      "[0, 0, 0, 0, 0, 0, 1, 1, 1, 1, 1, 1, 2, 2, 2, 2, 2, 2, 2]\n",
      "Pass\n"
     ]
    }
   ],
   "source": [
    "def test_function(test_case):\n",
    "    sorted_array = sort_012(test_case)\n",
    "    print(sorted_array)\n",
    "    if sorted_array == sorted(test_case):\n",
    "        print(\"Pass\")\n",
    "    else:\n",
    "        print(\"Fail\")\n",
    "\n",
    "test_function([0, 0, 2, 2, 2, 1, 1, 1, 2, 0, 2])\n",
    "test_function([2, 1, 2, 0, 0, 2, 1, 0, 1, 0, 0, 2, 2, 2, 1, 2, 0, 0, 0, 2, 1, 0, 2, 0, 0, 1])\n",
    "test_function([0, 0, 0, 0, 0, 0, 1, 1, 1, 1, 1, 1, 2, 2, 2, 2, 2, 2, 2])"
   ]
  }
 ],
 "metadata": {
  "kernelspec": {
   "display_name": "Python 3",
   "language": "python",
   "name": "python3"
  },
  "language_info": {
   "codemirror_mode": {
    "name": "ipython",
    "version": 3
   },
   "file_extension": ".py",
   "mimetype": "text/x-python",
   "name": "python",
   "nbconvert_exporter": "python",
   "pygments_lexer": "ipython3",
   "version": "3.7.4"
  }
 },
 "nbformat": 4,
 "nbformat_minor": 2
}
