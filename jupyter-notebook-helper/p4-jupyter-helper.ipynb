{
 "cells": [
  {
   "cell_type": "markdown",
   "metadata": {},
   "source": [
    "# Problem 4 Jupyter Helper"
   ]
  },
  {
   "cell_type": "code",
   "execution_count": 49,
   "metadata": {},
   "outputs": [],
   "source": [
    "def sort_012(py_list_012, debug_mode = False):\n",
    "    '''\n",
    "    Function Purpose:\n",
    "    '''\n",
    "    assert type(py_list_012) == list, \"Not a list!\"\n",
    "    \n",
    "    current_index = 0\n",
    "    zero_index = 0\n",
    "    two_index = len(py_list_012) - 1\n",
    "    \n",
    "    while current_index <= two_index:\n",
    "        current_value = py_list_012[current_index]\n",
    "        if debug_mode:\n",
    "            print(f'''\n",
    "            The current index is ({current_index}) and the current value is\n",
    "            ({current_value}).\n",
    "            ''')\n",
    "        \n",
    "        if (current_value == 0) and (current_index == zero_index):\n",
    "            if debug_mode:\n",
    "                print(f'''\n",
    "                Both the current index and the zero index are equal, and the\n",
    "                current value is ({current_value}). INCREASING both the zero\n",
    "                and current indices.\n",
    "                ''')\n",
    "            current_index += 1\n",
    "            zero_index += 1\n",
    "            continue\n",
    "        \n",
    "        if (current_value == 0) and (current_index > zero_index):\n",
    "            if debug_mode:\n",
    "                print(f'''\n",
    "                The current value is ({current_value}). PLACING the current\n",
    "                value at the zero_index point and then ADDING 1 to the zero\n",
    "                index.\n",
    "                ''')\n",
    "            py_list_012[current_index] = py_list_012[zero_index]\n",
    "            py_list_012[zero_index] = current_value\n",
    "            zero_index += 1\n",
    "            continue\n",
    "            \n",
    "        if (current_value == 2) and (current_index == two_index):\n",
    "            if debug_mode:\n",
    "                print(f'''\n",
    "                The current value is ({current_value}), and we have reached\n",
    "                the end. Sorting complete and breaking loop!\n",
    "                ''')\n",
    "            break\n",
    "        \n",
    "        if (current_value == 2) and (current_index < two_index):\n",
    "            if debug_mode:\n",
    "                print(f'''\n",
    "                The current value is ({current_value}). PLACING the current\n",
    "                value at the two_index and then SUBTRACTING 1 from the\n",
    "                two_index.\n",
    "                ''')\n",
    "            py_list_012[current_index] = py_list_012[two_index]\n",
    "            py_list_012[two_index] = current_value\n",
    "            two_index -=1\n",
    "            continue\n",
    "        \n",
    "        if debug_mode:\n",
    "            print(f'''\n",
    "            The current value is ({current_value}). ADDING 1 to the current\n",
    "            index.\n",
    "            ''')\n",
    "        current_index += 1\n",
    "        \n",
    "    return"
   ]
  },
  {
   "cell_type": "code",
   "execution_count": 50,
   "metadata": {},
   "outputs": [],
   "source": [
    "stupid = [0, 0, 2, 2, 2, 1, 1, 1, 2, 0, 2]"
   ]
  },
  {
   "cell_type": "code",
   "execution_count": 51,
   "metadata": {},
   "outputs": [],
   "source": [
    "current_index = 3"
   ]
  },
  {
   "cell_type": "code",
   "execution_count": 52,
   "metadata": {},
   "outputs": [
    {
     "data": {
      "text/plain": [
       "2"
      ]
     },
     "execution_count": 52,
     "metadata": {},
     "output_type": "execute_result"
    }
   ],
   "source": [
    "current_value = stupid[current_index]\n",
    "current_value"
   ]
  },
  {
   "cell_type": "code",
   "execution_count": 53,
   "metadata": {},
   "outputs": [
    {
     "name": "stdout",
     "output_type": "stream",
     "text": [
      "\n",
      "        The current index is (0) and the current value is\n",
      "        (0).\n",
      "        \n",
      "\n",
      "            Both the current index and the zero index are equal, and the\n",
      "            current value is (0). INCREASING both the zero\n",
      "            and current indices.\n",
      "            \n",
      "\n",
      "        The current index is (1) and the current value is\n",
      "        (0).\n",
      "        \n",
      "\n",
      "            Both the current index and the zero index are equal, and the\n",
      "            current value is (0). INCREASING both the zero\n",
      "            and current indices.\n",
      "            \n",
      "\n",
      "        The current index is (2) and the current value is\n",
      "        (2).\n",
      "        \n",
      "\n",
      "            The current value is (2). PLACING the current\n",
      "            value at the two_index and then SUBTRACTING 1 from the\n",
      "            two_index.\n",
      "            \n",
      "\n",
      "        The current index is (2) and the current value is\n",
      "        (2).\n",
      "        \n",
      "\n",
      "            The current value is (2). PLACING the current\n",
      "            value at the two_index and then SUBTRACTING 1 from the\n",
      "            two_index.\n",
      "            \n",
      "\n",
      "        The current index is (2) and the current value is\n",
      "        (0).\n",
      "        \n",
      "\n",
      "            Both the current index and the zero index are equal, and the\n",
      "            current value is (0). INCREASING both the zero\n",
      "            and current indices.\n",
      "            \n",
      "\n",
      "        The current index is (3) and the current value is\n",
      "        (2).\n",
      "        \n",
      "\n",
      "            The current value is (2). PLACING the current\n",
      "            value at the two_index and then SUBTRACTING 1 from the\n",
      "            two_index.\n",
      "            \n",
      "\n",
      "        The current index is (3) and the current value is\n",
      "        (2).\n",
      "        \n",
      "\n",
      "            The current value is (2). PLACING the current\n",
      "            value at the two_index and then SUBTRACTING 1 from the\n",
      "            two_index.\n",
      "            \n",
      "\n",
      "        The current index is (3) and the current value is\n",
      "        (1).\n",
      "        \n",
      "\n",
      "        The current value is (1). ADDING 1 to the current\n",
      "        index.\n",
      "        \n",
      "\n",
      "        The current index is (4) and the current value is\n",
      "        (2).\n",
      "        \n",
      "\n",
      "            The current value is (2). PLACING the current\n",
      "            value at the two_index and then SUBTRACTING 1 from the\n",
      "            two_index.\n",
      "            \n",
      "\n",
      "        The current index is (4) and the current value is\n",
      "        (1).\n",
      "        \n",
      "\n",
      "        The current value is (1). ADDING 1 to the current\n",
      "        index.\n",
      "        \n",
      "\n",
      "        The current index is (5) and the current value is\n",
      "        (1).\n",
      "        \n",
      "\n",
      "        The current value is (1). ADDING 1 to the current\n",
      "        index.\n",
      "        \n"
     ]
    }
   ],
   "source": [
    "sort_012(stupid)"
   ]
  },
  {
   "cell_type": "code",
   "execution_count": 54,
   "metadata": {},
   "outputs": [
    {
     "data": {
      "text/plain": [
       "[0, 0, 0, 1, 1, 1, 2, 2, 2, 2, 2]"
      ]
     },
     "execution_count": 54,
     "metadata": {},
     "output_type": "execute_result"
    }
   ],
   "source": [
    "stupid"
   ]
  },
  {
   "cell_type": "code",
   "execution_count": 31,
   "metadata": {},
   "outputs": [
    {
     "ename": "TypeError",
     "evalue": "'int' object is not subscriptable",
     "output_type": "error",
     "traceback": [
      "\u001b[1;31m---------------------------------------------------------------------------\u001b[0m",
      "\u001b[1;31mTypeError\u001b[0m                                 Traceback (most recent call last)",
      "\u001b[1;32m<ipython-input-31-f3de16edb144>\u001b[0m in \u001b[0;36m<module>\u001b[1;34m\u001b[0m\n\u001b[0;32m      7\u001b[0m         \u001b[0mprint\u001b[0m\u001b[1;33m(\u001b[0m\u001b[1;34m\"Fail\"\u001b[0m\u001b[1;33m)\u001b[0m\u001b[1;33m\u001b[0m\u001b[1;33m\u001b[0m\u001b[0m\n\u001b[0;32m      8\u001b[0m \u001b[1;33m\u001b[0m\u001b[0m\n\u001b[1;32m----> 9\u001b[1;33m \u001b[0mtest_function\u001b[0m\u001b[1;33m(\u001b[0m\u001b[1;33m[\u001b[0m\u001b[1;36m0\u001b[0m\u001b[1;33m,\u001b[0m \u001b[1;36m0\u001b[0m\u001b[1;33m,\u001b[0m \u001b[1;36m2\u001b[0m\u001b[1;33m,\u001b[0m \u001b[1;36m2\u001b[0m\u001b[1;33m,\u001b[0m \u001b[1;36m2\u001b[0m\u001b[1;33m,\u001b[0m \u001b[1;36m1\u001b[0m\u001b[1;33m,\u001b[0m \u001b[1;36m1\u001b[0m\u001b[1;33m,\u001b[0m \u001b[1;36m1\u001b[0m\u001b[1;33m,\u001b[0m \u001b[1;36m2\u001b[0m\u001b[1;33m,\u001b[0m \u001b[1;36m0\u001b[0m\u001b[1;33m,\u001b[0m \u001b[1;36m2\u001b[0m\u001b[1;33m]\u001b[0m\u001b[1;33m)\u001b[0m\u001b[1;33m\u001b[0m\u001b[1;33m\u001b[0m\u001b[0m\n\u001b[0m\u001b[0;32m     10\u001b[0m \u001b[0mtest_function\u001b[0m\u001b[1;33m(\u001b[0m\u001b[1;33m[\u001b[0m\u001b[1;36m2\u001b[0m\u001b[1;33m,\u001b[0m \u001b[1;36m1\u001b[0m\u001b[1;33m,\u001b[0m \u001b[1;36m2\u001b[0m\u001b[1;33m,\u001b[0m \u001b[1;36m0\u001b[0m\u001b[1;33m,\u001b[0m \u001b[1;36m0\u001b[0m\u001b[1;33m,\u001b[0m \u001b[1;36m2\u001b[0m\u001b[1;33m,\u001b[0m \u001b[1;36m1\u001b[0m\u001b[1;33m,\u001b[0m \u001b[1;36m0\u001b[0m\u001b[1;33m,\u001b[0m \u001b[1;36m1\u001b[0m\u001b[1;33m,\u001b[0m \u001b[1;36m0\u001b[0m\u001b[1;33m,\u001b[0m \u001b[1;36m0\u001b[0m\u001b[1;33m,\u001b[0m \u001b[1;36m2\u001b[0m\u001b[1;33m,\u001b[0m \u001b[1;36m2\u001b[0m\u001b[1;33m,\u001b[0m \u001b[1;36m2\u001b[0m\u001b[1;33m,\u001b[0m \u001b[1;36m1\u001b[0m\u001b[1;33m,\u001b[0m \u001b[1;36m2\u001b[0m\u001b[1;33m,\u001b[0m \u001b[1;36m0\u001b[0m\u001b[1;33m,\u001b[0m \u001b[1;36m0\u001b[0m\u001b[1;33m,\u001b[0m \u001b[1;36m0\u001b[0m\u001b[1;33m,\u001b[0m \u001b[1;36m2\u001b[0m\u001b[1;33m,\u001b[0m \u001b[1;36m1\u001b[0m\u001b[1;33m,\u001b[0m \u001b[1;36m0\u001b[0m\u001b[1;33m,\u001b[0m \u001b[1;36m2\u001b[0m\u001b[1;33m,\u001b[0m \u001b[1;36m0\u001b[0m\u001b[1;33m,\u001b[0m \u001b[1;36m0\u001b[0m\u001b[1;33m,\u001b[0m \u001b[1;36m1\u001b[0m\u001b[1;33m]\u001b[0m\u001b[1;33m)\u001b[0m\u001b[1;33m\u001b[0m\u001b[1;33m\u001b[0m\u001b[0m\n\u001b[0;32m     11\u001b[0m \u001b[0mtest_function\u001b[0m\u001b[1;33m(\u001b[0m\u001b[1;33m[\u001b[0m\u001b[1;36m0\u001b[0m\u001b[1;33m,\u001b[0m \u001b[1;36m0\u001b[0m\u001b[1;33m,\u001b[0m \u001b[1;36m0\u001b[0m\u001b[1;33m,\u001b[0m \u001b[1;36m0\u001b[0m\u001b[1;33m,\u001b[0m \u001b[1;36m0\u001b[0m\u001b[1;33m,\u001b[0m \u001b[1;36m0\u001b[0m\u001b[1;33m,\u001b[0m \u001b[1;36m1\u001b[0m\u001b[1;33m,\u001b[0m \u001b[1;36m1\u001b[0m\u001b[1;33m,\u001b[0m \u001b[1;36m1\u001b[0m\u001b[1;33m,\u001b[0m \u001b[1;36m1\u001b[0m\u001b[1;33m,\u001b[0m \u001b[1;36m1\u001b[0m\u001b[1;33m,\u001b[0m \u001b[1;36m1\u001b[0m\u001b[1;33m,\u001b[0m \u001b[1;36m2\u001b[0m\u001b[1;33m,\u001b[0m \u001b[1;36m2\u001b[0m\u001b[1;33m,\u001b[0m \u001b[1;36m2\u001b[0m\u001b[1;33m,\u001b[0m \u001b[1;36m2\u001b[0m\u001b[1;33m,\u001b[0m \u001b[1;36m2\u001b[0m\u001b[1;33m,\u001b[0m \u001b[1;36m2\u001b[0m\u001b[1;33m,\u001b[0m \u001b[1;36m2\u001b[0m\u001b[1;33m]\u001b[0m\u001b[1;33m)\u001b[0m\u001b[1;33m\u001b[0m\u001b[1;33m\u001b[0m\u001b[0m\n",
      "\u001b[1;32m<ipython-input-31-f3de16edb144>\u001b[0m in \u001b[0;36mtest_function\u001b[1;34m(test_case)\u001b[0m\n\u001b[0;32m      1\u001b[0m \u001b[1;32mdef\u001b[0m \u001b[0mtest_function\u001b[0m\u001b[1;33m(\u001b[0m\u001b[0mtest_case\u001b[0m\u001b[1;33m)\u001b[0m\u001b[1;33m:\u001b[0m\u001b[1;33m\u001b[0m\u001b[1;33m\u001b[0m\u001b[0m\n\u001b[1;32m----> 2\u001b[1;33m     \u001b[0msorted_array\u001b[0m \u001b[1;33m=\u001b[0m \u001b[0msort_012\u001b[0m\u001b[1;33m(\u001b[0m\u001b[0mtest_case\u001b[0m\u001b[1;33m)\u001b[0m\u001b[1;33m\u001b[0m\u001b[1;33m\u001b[0m\u001b[0m\n\u001b[0m\u001b[0;32m      3\u001b[0m     \u001b[0mprint\u001b[0m\u001b[1;33m(\u001b[0m\u001b[0msorted_array\u001b[0m\u001b[1;33m)\u001b[0m\u001b[1;33m\u001b[0m\u001b[1;33m\u001b[0m\u001b[0m\n\u001b[0;32m      4\u001b[0m     \u001b[1;32mif\u001b[0m \u001b[0msorted_array\u001b[0m \u001b[1;33m==\u001b[0m \u001b[0msorted\u001b[0m\u001b[1;33m(\u001b[0m\u001b[0mtest_case\u001b[0m\u001b[1;33m)\u001b[0m\u001b[1;33m:\u001b[0m\u001b[1;33m\u001b[0m\u001b[1;33m\u001b[0m\u001b[0m\n\u001b[0;32m      5\u001b[0m         \u001b[0mprint\u001b[0m\u001b[1;33m(\u001b[0m\u001b[1;34m\"Pass\"\u001b[0m\u001b[1;33m)\u001b[0m\u001b[1;33m\u001b[0m\u001b[1;33m\u001b[0m\u001b[0m\n",
      "\u001b[1;32m<ipython-input-29-ab4f3f581335>\u001b[0m in \u001b[0;36msort_012\u001b[1;34m(py_list_012)\u001b[0m\n\u001b[0;32m     10\u001b[0m \u001b[1;33m\u001b[0m\u001b[0m\n\u001b[0;32m     11\u001b[0m     \u001b[1;32mwhile\u001b[0m \u001b[0mcurrent_index\u001b[0m \u001b[1;33m<=\u001b[0m \u001b[0mtwo_index\u001b[0m\u001b[1;33m:\u001b[0m\u001b[1;33m\u001b[0m\u001b[1;33m\u001b[0m\u001b[0m\n\u001b[1;32m---> 12\u001b[1;33m         \u001b[0mcurrent_value\u001b[0m \u001b[1;33m=\u001b[0m \u001b[0mpy_list_012\u001b[0m\u001b[1;33m[\u001b[0m\u001b[0mcurrent_index\u001b[0m\u001b[1;33m]\u001b[0m\u001b[1;33m\u001b[0m\u001b[1;33m\u001b[0m\u001b[0m\n\u001b[0m\u001b[0;32m     13\u001b[0m \u001b[1;33m\u001b[0m\u001b[0m\n\u001b[0;32m     14\u001b[0m         \u001b[1;32mif\u001b[0m \u001b[0mcurrent_value\u001b[0m \u001b[1;33m==\u001b[0m \u001b[1;36m1\u001b[0m\u001b[1;33m:\u001b[0m\u001b[1;33m\u001b[0m\u001b[1;33m\u001b[0m\u001b[0m\n",
      "\u001b[1;31mTypeError\u001b[0m: 'int' object is not subscriptable"
     ]
    }
   ],
   "source": [
    "def test_function(test_case):\n",
    "    sorted_array = sort_012(test_case)\n",
    "    print(sorted_array)\n",
    "    if sorted_array == sorted(test_case):\n",
    "        print(\"Pass\")\n",
    "    else:\n",
    "        print(\"Fail\")\n",
    "\n",
    "test_function([0, 0, 2, 2, 2, 1, 1, 1, 2, 0, 2])\n",
    "test_function([2, 1, 2, 0, 0, 2, 1, 0, 1, 0, 0, 2, 2, 2, 1, 2, 0, 0, 0, 2, 1, 0, 2, 0, 0, 1])\n",
    "test_function([0, 0, 0, 0, 0, 0, 1, 1, 1, 1, 1, 1, 2, 2, 2, 2, 2, 2, 2])"
   ]
  }
 ],
 "metadata": {
  "kernelspec": {
   "display_name": "Python 3",
   "language": "python",
   "name": "python3"
  },
  "language_info": {
   "codemirror_mode": {
    "name": "ipython",
    "version": 3
   },
   "file_extension": ".py",
   "mimetype": "text/x-python",
   "name": "python",
   "nbconvert_exporter": "python",
   "pygments_lexer": "ipython3",
   "version": "3.7.4"
  }
 },
 "nbformat": 4,
 "nbformat_minor": 2
}
