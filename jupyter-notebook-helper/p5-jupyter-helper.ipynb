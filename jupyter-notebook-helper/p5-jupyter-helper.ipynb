{
 "cells": [
  {
   "cell_type": "markdown",
   "metadata": {},
   "source": [
    "# Problem 5 Jupyter Helper"
   ]
  },
  {
   "cell_type": "markdown",
   "metadata": {},
   "source": [
    "# Building a Trie in Python\n",
    "\n",
    "Before we start let us reiterate the key components of a Trie or Prefix Tree. A trie is a tree-like data structure that stores a dynamic set of strings. Tries are commonly used to facilitate operations like predictive text or autocomplete features on mobile phones or web search.\n",
    "\n",
    "Before we move into the autocomplete function we need to create a working trie for storing strings.  We will create two classes:\n",
    "* A `Trie` class that contains the root node (empty string)\n",
    "* A `TrieNode` class that exposes the general functionality of the Trie, like inserting a word or finding the node which represents a prefix.\n",
    "\n",
    "Give it a try by implementing the `TrieNode` and `Trie` classes below!"
   ]
  },
  {
   "cell_type": "code",
   "execution_count": 1,
   "metadata": {},
   "outputs": [],
   "source": [
    "## Represents a single node in the Trie\n",
    "class TrieNode:\n",
    "    def __init__(self):\n",
    "        ## Initialize this node in the Trie\n",
    "        self.is_word = False\n",
    "        self.children = {}\n",
    "    \n",
    "    def insert_char(self, char):\n",
    "        ## Add a child node in this Trie\n",
    "        assert type(char) == str, f'''Inserted character must be string!'''\n",
    "        assert len(char) <= 1, f'''\n",
    "        The length of the character must be less than or equal to 1!\n",
    "        '''\n",
    "        self.children[char] = TrieNode()"
   ]
  },
  {
   "cell_type": "code",
   "execution_count": 2,
   "metadata": {},
   "outputs": [],
   "source": [
    "## The Trie itself containing the root node and insert/find functions\n",
    "class Trie:\n",
    "    def __init__(self):\n",
    "        ## Initialize this Trie (add a root node)\n",
    "        self.root = TrieNode()\n",
    "\n",
    "    def insert_word(self, word):\n",
    "        ## Add a word to the Trie\n",
    "        current_node = self.root\n",
    "        \n",
    "        word = word.lower()\n",
    "        for char in word:\n",
    "            if char not in current_node.children:\n",
    "                current_node.insert_char(char)\n",
    "            current_node = current_node.children[char]\n",
    "        \n",
    "        current_node.is_word = True\n",
    "\n",
    "    def find(self, prefix):\n",
    "        ## Find the Trie node that represents this prefix\n",
    "        current_node = self.root\n",
    "        \n",
    "        prefix = prefix.lower()\n",
    "        for char in prefix:\n",
    "            if char not in current_node.children:\n",
    "                return None\n",
    "            current_node = current_node.children[char]\n",
    "        \n",
    "        return current_node"
   ]
  },
  {
   "cell_type": "markdown",
   "metadata": {},
   "source": [
    "# Finding Suffixes\n",
    "\n",
    "Now that we have a functioning Trie, we need to add the ability to list suffixes to implement our autocomplete feature.  To do that, we need to implement a new function on the `TrieNode` object that will return all complete word suffixes that exist below it in the trie.  For example, if our Trie contains the words `[\"fun\", \"function\", \"factory\"]` and we ask for suffixes from the `f` node, we would expect to receive `[\"un\", \"unction\", \"actory\"]` back from `node.suffixes()`.\n",
    "\n",
    "Using the code you wrote for the `TrieNode` above, try to add the suffixes function below. (Hint: recurse down the trie, collecting suffixes as you go.)"
   ]
  },
  {
   "cell_type": "code",
   "execution_count": 3,
   "metadata": {},
   "outputs": [],
   "source": [
    "class TrieNode:\n",
    "    def __init__(self):\n",
    "        ## Initialize this node in the Trie\n",
    "        self.is_word = False\n",
    "        self.children = {}\n",
    "    \n",
    "    def insert_char(self, char):\n",
    "        ## Add a child node in this Trie\n",
    "        assert type(char) == str, f'''Inserted character must be string!'''\n",
    "        assert len(char) <= 1, f'''\n",
    "        The length of the character must be less than or equal to 1!\n",
    "        '''\n",
    "        char = char.lower()\n",
    "        self.children[char] = TrieNode()\n",
    "    \n",
    "    def has_children(self):\n",
    "        return len(self.children) > 0\n",
    "    \n",
    "    def recurse_suffix_helper(self, node = None, suffix = \"\",\n",
    "                              suffix_set = set()):\n",
    "        suffix_tracker = suffix_set\n",
    "        \n",
    "        if node == None:\n",
    "            if not self.has_children():\n",
    "                return suffix_tracker\n",
    "        \n",
    "        if node != None:\n",
    "            if node.is_word:\n",
    "                suffix_tracker.add(suffix)\n",
    "            \n",
    "        if node != None:\n",
    "            if not node.has_children():\n",
    "                return suffix_tracker\n",
    "    \n",
    "        output_collection = set()\n",
    "        if node == None:\n",
    "            char_dict = self.children\n",
    "        else:\n",
    "            char_dict = node.children\n",
    "        for char in char_dict:\n",
    "            new_suffix = suffix + char\n",
    "            if node is None:\n",
    "                new_node = self.children[char]\n",
    "            else:\n",
    "                new_node = node.children[char]\n",
    "            output = self.recurse_suffix_helper(new_node, new_suffix,\n",
    "                                                suffix_tracker)\n",
    "            if len(output) >= 1:\n",
    "                for i in output:\n",
    "                    output_collection.add(i)\n",
    "        return output_collection\n",
    "        \n",
    "    def suffixes(self):\n",
    "        ## Recursive function that collects the suffix for \n",
    "        ## all complete words below this point\n",
    "        output = self.recurse_suffix_helper()\n",
    "        output = list(output)\n",
    "        output.sort()\n",
    "        return output"
   ]
  },
  {
   "cell_type": "markdown",
   "metadata": {},
   "source": [
    "## DO NOT RUN THE CELL BELOW"
   ]
  },
  {
   "cell_type": "code",
   "execution_count": 7,
   "metadata": {},
   "outputs": [],
   "source": [
    "different_tree = Trie()\n",
    "word_list = ['stop', \"stupid\", \"stoner\", \"stud\", \"stoned\", \"stupider\"]\n",
    "\n",
    "for word in word_list:\n",
    "    different_tree.insert_word(word)"
   ]
  },
  {
   "cell_type": "code",
   "execution_count": 8,
   "metadata": {},
   "outputs": [],
   "source": [
    "find_sto = different_tree.find(\"sto\")"
   ]
  },
  {
   "cell_type": "code",
   "execution_count": 9,
   "metadata": {},
   "outputs": [
    {
     "data": {
      "text/plain": [
       "['actory',\n",
       " 'ction',\n",
       " 'ion',\n",
       " 'n',\n",
       " 'nction',\n",
       " 'ned',\n",
       " 'ner',\n",
       " 'on',\n",
       " 'p',\n",
       " 'tion',\n",
       " 'un',\n",
       " 'unction']"
      ]
     },
     "execution_count": 9,
     "metadata": {},
     "output_type": "execute_result"
    }
   ],
   "source": [
    "find_sto.suffixes()"
   ]
  },
  {
   "cell_type": "markdown",
   "metadata": {},
   "source": [
    "# Testing it all out\n",
    "\n",
    "Run the following code to add some words to your trie and then use the interactive search box to see what your code returns."
   ]
  },
  {
   "cell_type": "code",
   "execution_count": 4,
   "metadata": {},
   "outputs": [],
   "source": [
    "MyTrie = Trie()\n",
    "wordList = [\n",
    "    \"ant\", \"anthology\", \"antagonist\", \"antonym\", \n",
    "    \"fun\", \"function\", \"factory\", \n",
    "    \"trie\", \"trigger\", \"trigonometry\", \"tripod\"\n",
    "]\n",
    "for word in wordList:\n",
    "    MyTrie.insert_word(word)"
   ]
  },
  {
   "cell_type": "code",
   "execution_count": 5,
   "metadata": {},
   "outputs": [
    {
     "data": {
      "application/vnd.jupyter.widget-view+json": {
       "model_id": "8076562434f14467b7b2660796601fa1",
       "version_major": 2,
       "version_minor": 0
      },
      "text/plain": [
       "interactive(children=(Text(value='', description='prefix'), Output()), _dom_classes=('widget-interact',))"
      ]
     },
     "metadata": {},
     "output_type": "display_data"
    }
   ],
   "source": [
    "from ipywidgets import widgets\n",
    "from IPython.display import display\n",
    "from ipywidgets import interact\n",
    "def f(prefix):\n",
    "    if prefix != '':\n",
    "        prefixNode = MyTrie.find(prefix)\n",
    "        if prefixNode:\n",
    "            print('\\n'.join(prefixNode.suffixes()))\n",
    "        else:\n",
    "            print(prefix + \" not found\")\n",
    "    else:\n",
    "        print('')\n",
    "interact(f,prefix='');"
   ]
  },
  {
   "cell_type": "code",
   "execution_count": 6,
   "metadata": {},
   "outputs": [],
   "source": [
    "# REFERENCES\n",
    "# 1. Udacity Data Structures & Algorithms Nanodegree; 3) Basic Algorithms; \n",
    "#        1) Basic Algorithms; 6) Tries\n",
    "# 2. Udacity Data Structures & Algorithms Nanodegree; 3) Basic Algorithms; \n",
    "#        4) Problems Vs Algorithms; 6) Problem 5: Autocomplete with Tries"
   ]
  }
 ],
 "metadata": {
  "kernelspec": {
   "display_name": "Python 3",
   "language": "python",
   "name": "python3"
  },
  "language_info": {
   "codemirror_mode": {
    "name": "ipython",
    "version": 3
   },
   "file_extension": ".py",
   "mimetype": "text/x-python",
   "name": "python",
   "nbconvert_exporter": "python",
   "pygments_lexer": "ipython3",
   "version": "3.7.4"
  }
 },
 "nbformat": 4,
 "nbformat_minor": 2
}
