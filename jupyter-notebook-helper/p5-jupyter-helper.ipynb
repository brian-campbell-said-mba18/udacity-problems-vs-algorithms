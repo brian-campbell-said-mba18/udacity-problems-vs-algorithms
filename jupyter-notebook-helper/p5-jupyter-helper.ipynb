{
 "cells": [
  {
   "cell_type": "markdown",
   "metadata": {},
   "source": [
    "# Problem 5 Jupyter Helper"
   ]
  },
  {
   "cell_type": "markdown",
   "metadata": {},
   "source": [
    "# Building a Trie in Python\n",
    "\n",
    "Before we start let us reiterate the key components of a Trie or Prefix Tree. A trie is a tree-like data structure that stores a dynamic set of strings. Tries are commonly used to facilitate operations like predictive text or autocomplete features on mobile phones or web search.\n",
    "\n",
    "Before we move into the autocomplete function we need to create a working trie for storing strings.  We will create two classes:\n",
    "* A `Trie` class that contains the root node (empty string)\n",
    "* A `TrieNode` class that exposes the general functionality of the Trie, like inserting a word or finding the node which represents a prefix.\n",
    "\n",
    "Give it a try by implementing the `TrieNode` and `Trie` classes below!"
   ]
  },
  {
   "cell_type": "code",
   "execution_count": 57,
   "metadata": {},
   "outputs": [],
   "source": [
    "## Represents a single node in the Trie\n",
    "class TrieNode:\n",
    "    def __init__(self):\n",
    "        ## Initialize this node in the Trie\n",
    "        self.is_word = False\n",
    "        self.children = {}\n",
    "    \n",
    "    def insert_char(self, char):\n",
    "        ## Add a child node in this Trie\n",
    "        assert type(char) == str, f'''Inserted character must be string!'''\n",
    "        assert len(char) <= 1, f'''\n",
    "        The length of the character must be less than or equal to 1!\n",
    "        '''\n",
    "        self.children[char] = TrieNode()"
   ]
  },
  {
   "cell_type": "code",
   "execution_count": 58,
   "metadata": {},
   "outputs": [],
   "source": [
    "## The Trie itself containing the root node and insert/find functions\n",
    "class Trie:\n",
    "    def __init__(self):\n",
    "        ## Initialize this Trie (add a root node)\n",
    "        self.root = TrieNode()\n",
    "\n",
    "    def insert_word(self, word):\n",
    "        ## Add a word to the Trie\n",
    "        current_node = self.root\n",
    "        \n",
    "        for char in word:\n",
    "            if char not in current_node.children:\n",
    "                current_node.insert_char(char)\n",
    "            current_node = current_node.children[char]\n",
    "        \n",
    "        current_node.is_word = True\n",
    "\n",
    "    def find(self, prefix):\n",
    "        ## Find the Trie node that represents this prefix\n",
    "        current_node = self.root\n",
    "        \n",
    "        for char in prefix:\n",
    "            if char not in current_node.children:\n",
    "                return None\n",
    "            current_node = current_node.children[char]\n",
    "        \n",
    "        return current_node"
   ]
  },
  {
   "cell_type": "code",
   "execution_count": 59,
   "metadata": {},
   "outputs": [],
   "source": [
    "MyTrie = Trie()\n",
    "wordList = [\n",
    "    \"ant\", \"anthology\", \"antagonist\", \"antonym\", \n",
    "    \"fun\", \"function\", \"factory\", \n",
    "    \"trie\", \"trigger\", \"trigonometry\", \"tripod\"\n",
    "]\n",
    "for word in wordList:\n",
    "    MyTrie.insert_word(word)"
   ]
  },
  {
   "cell_type": "markdown",
   "metadata": {},
   "source": [
    "# Finding Suffixes\n",
    "\n",
    "Now that we have a functioning Trie, we need to add the ability to list suffixes to implement our autocomplete feature.  To do that, we need to implement a new function on the `TrieNode` object that will return all complete word suffixes that exist below it in the trie.  For example, if our Trie contains the words `[\"fun\", \"function\", \"factory\"]` and we ask for suffixes from the `f` node, we would expect to receive `[\"un\", \"unction\", \"actory\"]` back from `node.suffixes()`.\n",
    "\n",
    "Using the code you wrote for the `TrieNode` above, try to add the suffixes function below. (Hint: recurse down the trie, collecting suffixes as you go.)"
   ]
  },
  {
   "cell_type": "code",
   "execution_count": 60,
   "metadata": {},
   "outputs": [],
   "source": [
    "class TrieNode:\n",
    "    def __init__(self):\n",
    "        ## Initialize this node in the Trie\n",
    "        self.is_word = False\n",
    "        self.children = {}\n",
    "    \n",
    "    def insert_char(self, char):\n",
    "        ## Add a child node in this Trie\n",
    "        assert type(char) == str, f'''Inserted character must be string!'''\n",
    "        assert len(char) <= 1, f'''\n",
    "        The length of the character must be less than or equal to 1!\n",
    "        '''\n",
    "        self.children[char] = TrieNode()\n",
    "    \n",
    "    def has_children(self):\n",
    "        return len(self.children) > 0\n",
    "    \n",
    "    def empty_suffix(self, the_string):\n",
    "        return len(the_string) < 1\n",
    "        \n",
    "    def suffixes(self, suffix = '', current_node = None):\n",
    "        ## Recursive function that collects the suffix for \n",
    "        ## all complete words below this point\n",
    "        \n",
    "        # This conditional determines whether there is a suffix.\n",
    "        if self.empty_suffix(suffix):\n",
    "            # This initiates the list_of_suffixes.\n",
    "            list_of_suffixes = []\n",
    "            \n",
    "            # If this node has no children, an empty list_of_suffixes is\n",
    "            # returned.\n",
    "            if not self.has_children():\n",
    "                return list_of_suffixes\n",
    "            \n",
    "            # If this node has children, then a for loop is activated to\n",
    "            # search for suffixes.\n",
    "            char_dict = self.children\n",
    "            for char in char_dict:\n",
    "                current_suffix = suffix + char\n",
    "                the_current_node = self.children[char]\n",
    "                if current_node.is_word:\n",
    "                    list_of_suffixes.append(current_suffix)\n",
    "                output = self.suffixes(current_suffix, the_current_node)\n",
    "                if output:\n",
    "                    for i in output:\n",
    "                        list_of_suffixes.append(output)\n",
    "            return list_of_suffixes\n",
    "        \n",
    "        if not current_node.has_children():\n",
    "            if current_node.is_word:\n",
    "                return [suffix]\n",
    "            return\n",
    "        \n",
    "        char_dict = current_node.children\n",
    "        more_outputs = []\n",
    "        for char in char_dict:\n",
    "            current_suffix = suffix + char\n",
    "            the_current_node = current_node.children[char]\n",
    "            if current_node.is_word:\n",
    "                more_outputs.append(current_suffix)\n",
    "            output = \n",
    "            self.suffixes(current_suffix, the_current_node)"
   ]
  },
  {
   "cell_type": "code",
   "execution_count": 55,
   "metadata": {},
   "outputs": [],
   "source": [
    "no_children = TrieNode()"
   ]
  },
  {
   "cell_type": "code",
   "execution_count": 56,
   "metadata": {},
   "outputs": [
    {
     "data": {
      "text/plain": [
       "False"
      ]
     },
     "execution_count": 56,
     "metadata": {},
     "output_type": "execute_result"
    }
   ],
   "source": [
    "no_children.has_children()"
   ]
  },
  {
   "cell_type": "markdown",
   "metadata": {},
   "source": [
    "# Testing it all out\n",
    "\n",
    "Run the following code to add some words to your trie and then use the interactive search box to see what your code returns."
   ]
  },
  {
   "cell_type": "code",
   "execution_count": 62,
   "metadata": {},
   "outputs": [],
   "source": [
    "MyTrie = Trie()\n",
    "wordList = [\n",
    "    \"ant\", \"anthology\", \"antagonist\", \"antonym\", \n",
    "    \"fun\", \"function\", \"factory\", \n",
    "    \"trie\", \"trigger\", \"trigonometry\", \"tripod\"\n",
    "]\n",
    "for word in wordList:\n",
    "    MyTrie.insert_word(word)"
   ]
  },
  {
   "cell_type": "markdown",
   "metadata": {},
   "source": [
    "## DO NOT RUN CELLS BELOW FOR NOW!"
   ]
  },
  {
   "cell_type": "code",
   "execution_count": null,
   "metadata": {},
   "outputs": [],
   "source": []
  },
  {
   "cell_type": "code",
   "execution_count": 64,
   "metadata": {},
   "outputs": [
    {
     "data": {
      "application/vnd.jupyter.widget-view+json": {
       "model_id": "8447e05f760a4327beb7f78ef795caf4",
       "version_major": 2,
       "version_minor": 0
      },
      "text/plain": [
       "interactive(children=(Text(value='', description='prefix'), Output()), _dom_classes=('widget-interact',))"
      ]
     },
     "metadata": {},
     "output_type": "display_data"
    }
   ],
   "source": [
    "from ipywidgets import widgets\n",
    "from IPython.display import display\n",
    "from ipywidgets import interact\n",
    "def f(prefix):\n",
    "    if prefix != '':\n",
    "        prefixNode = MyTrie.find(prefix)\n",
    "        if prefixNode:\n",
    "            print('\\n'.join(prefixNode.suffixes()))\n",
    "        else:\n",
    "            print(prefix + \" not found\")\n",
    "    else:\n",
    "        print('')\n",
    "interact(f,prefix='');"
   ]
  },
  {
   "cell_type": "code",
   "execution_count": 8,
   "metadata": {},
   "outputs": [],
   "source": [
    "# REFERENCES\n",
    "# 1. Udacity Data Structures & Algorithms Nanodegree; 3) Basic Algorithms; \n",
    "#        1) Basic Algorithms; 6) Tries\n",
    "# 2. Udacity Data Structures & Algorithms Nanodegree; 3) Basic Algorithms; \n",
    "#        4) Problems Vs Algorithms; 6) Problem 5: Autocomplete with Tries"
   ]
  }
 ],
 "metadata": {
  "kernelspec": {
   "display_name": "Python 3",
   "language": "python",
   "name": "python3"
  },
  "language_info": {
   "codemirror_mode": {
    "name": "ipython",
    "version": 3
   },
   "file_extension": ".py",
   "mimetype": "text/x-python",
   "name": "python",
   "nbconvert_exporter": "python",
   "pygments_lexer": "ipython3",
   "version": "3.7.4"
  }
 },
 "nbformat": 4,
 "nbformat_minor": 2
}
