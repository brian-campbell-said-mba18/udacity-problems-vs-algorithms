{
 "cells": [
  {
   "cell_type": "markdown",
   "metadata": {},
   "source": [
    "# Problem 5 Jupyter Helper"
   ]
  },
  {
   "cell_type": "markdown",
   "metadata": {},
   "source": [
    "# Building a Trie in Python\n",
    "\n",
    "Before we start let us reiterate the key components of a Trie or Prefix Tree. A trie is a tree-like data structure that stores a dynamic set of strings. Tries are commonly used to facilitate operations like predictive text or autocomplete features on mobile phones or web search.\n",
    "\n",
    "Before we move into the autocomplete function we need to create a working trie for storing strings.  We will create two classes:\n",
    "* A `Trie` class that contains the root node (empty string)\n",
    "* A `TrieNode` class that exposes the general functionality of the Trie, like inserting a word or finding the node which represents a prefix.\n",
    "\n",
    "Give it a try by implementing the `TrieNode` and `Trie` classes below!"
   ]
  },
  {
   "cell_type": "code",
   "execution_count": 1,
   "metadata": {},
   "outputs": [],
   "source": [
    "## Represents a single node in the Trie\n",
    "class TrieNode:\n",
    "    def __init__(self):\n",
    "        ## Initialize this node in the Trie\n",
    "        self.is_word = False\n",
    "        self.children = {}\n",
    "    \n",
    "    def insert_char(self, char):\n",
    "        ## Add a child node in this Trie\n",
    "        assert type(char) == str, f'''Inserted character must be string!'''\n",
    "        assert len(char) <= 1, f'''\n",
    "        The length of the character must be less than or equal to 1!\n",
    "        '''\n",
    "        self.children[char] = TrieNode()"
   ]
  },
  {
   "cell_type": "code",
   "execution_count": 2,
   "metadata": {},
   "outputs": [],
   "source": [
    "## The Trie itself containing the root node and insert/find functions\n",
    "class Trie:\n",
    "    def __init__(self):\n",
    "        ## Initialize this Trie (add a root node)\n",
    "        self.root = TrieNode()\n",
    "\n",
    "    def insert_word(self, word):\n",
    "        ## Add a word to the Trie\n",
    "        current_node = self.root\n",
    "        \n",
    "        word = word.lower()\n",
    "        for char in word:\n",
    "            if char not in current_node.children:\n",
    "                current_node.insert_char(char)\n",
    "            current_node = current_node.children[char]\n",
    "        \n",
    "        current_node.is_word = True\n",
    "\n",
    "    def find(self, prefix):\n",
    "        ## Find the Trie node that represents this prefix\n",
    "        current_node = self.root\n",
    "        \n",
    "        prefix = prefix.lower()\n",
    "        for char in prefix:\n",
    "            if char not in current_node.children:\n",
    "                return None\n",
    "            current_node = current_node.children[char]\n",
    "        \n",
    "        return current_node"
   ]
  },
  {
   "cell_type": "markdown",
   "metadata": {},
   "source": [
    "# Finding Suffixes\n",
    "\n",
    "Now that we have a functioning Trie, we need to add the ability to list suffixes to implement our autocomplete feature.  To do that, we need to implement a new function on the `TrieNode` object that will return all complete word suffixes that exist below it in the trie.  For example, if our Trie contains the words `[\"fun\", \"function\", \"factory\"]` and we ask for suffixes from the `f` node, we would expect to receive `[\"un\", \"unction\", \"actory\"]` back from `node.suffixes()`.\n",
    "\n",
    "Using the code you wrote for the `TrieNode` above, try to add the suffixes function below. (Hint: recurse down the trie, collecting suffixes as you go.)"
   ]
  },
  {
   "cell_type": "code",
   "execution_count": 3,
   "metadata": {},
   "outputs": [],
   "source": [
    "class TrieNode:\n",
    "    def __init__(self):\n",
    "        ## Initialize this node in the Trie\n",
    "        self.is_word = False\n",
    "        self.children = {}\n",
    "    \n",
    "    def insert_char(self, char):\n",
    "        ## Add a child node in this Trie\n",
    "        assert type(char) == str, f'''Inserted character must be string!'''\n",
    "        assert len(char) <= 1, f'''\n",
    "        The length of the character must be less than or equal to 1!\n",
    "        '''\n",
    "        char = char.lower()\n",
    "        self.children[char] = TrieNode()\n",
    "    \n",
    "    def has_children(self):\n",
    "        return len(self.children) > 0\n",
    "    \n",
    "    def blank_set(self):\n",
    "        empty_set = set()\n",
    "        return empty_set\n",
    "    \n",
    "    def recurse_suffix_helper(self, node = None, suffix = \"\",\n",
    "                              suffix_set = None, debug_mode = False):\n",
    "        '''\n",
    "        Helper Function Purpose: The purpose of this helper function is to \n",
    "            find all the suffixes below a given prefix that create a word.\n",
    "            The function recursively calls itself in order to search \n",
    "            through all the nodes.\n",
    "            \n",
    "        Arguments: \n",
    "            Node = This is the node that's having it's suffix examined.\n",
    "                It is initialized as \"None\", but is updated as the function\n",
    "                is recursively called.\n",
    "            Suffix = This is the character string being examined. It is \n",
    "                initialized as none, but is updated when the function is\n",
    "                called recursively.\n",
    "            Suffix_set = This is the set of suffixes that make a word for\n",
    "                a particular prefix. This is initialized as None but is \n",
    "                updated when the funciton is called recursively.\n",
    "            Debug_mode = This prints debugging text when it is set to true,\n",
    "                but by default it is set to false.\n",
    "        \n",
    "        Returns: Output_collection = A set of all the suffixes in the Trie \n",
    "            that make a complete word for a particular prefix.\n",
    "        '''\n",
    "        # Debugging is initialized for the purpose of seeing bugs in\n",
    "        # the function.\n",
    "        debugging = debug_mode\n",
    "        \n",
    "        # This is a base case in which nothing follows a prefix.\n",
    "        if node == None:\n",
    "            if not self.has_children():\n",
    "                return self.blank_set()\n",
    "        \n",
    "        # If we are not looking at the very first node, and the\n",
    "        # current suffix is a word, then we add it to the suffix_set.\n",
    "        if (node != None) and (node.is_word == True):\n",
    "            \n",
    "            # If debug mode is true, this prints the suffix if \n",
    "            # it can be formed into a word.\n",
    "            if debug_mode:\n",
    "                print(f'''\n",
    "                The suffix ({suffix}) forms a word. Adding to set of\n",
    "                suffixes!\n",
    "                ''')\n",
    "            \n",
    "            # The suffix is added to the suffix set.\n",
    "            suffix_set.add(suffix)\n",
    "            \n",
    "            # If debug mode is on, this prints the current suffix set.\n",
    "            if debug_mode:\n",
    "                print(f'''\n",
    "                The set of suffixes is now: \n",
    "                ({suffix_set})\n",
    "                ''')\n",
    "        \n",
    "        # If we are not looking at the initial node and the current node\n",
    "        # does not have children. The suffix_set is returned.\n",
    "        if (node != None) and (not node.has_children()):\n",
    "            return suffix_set\n",
    "    \n",
    "        # This initiallizes the variables for the for loop that\n",
    "        # calls the recurse_suffix_helper function to iterate through\n",
    "        # all the suffixes to find the suffixes that make complete words\n",
    "        # for a given prefix.\n",
    "        output_collection = self.blank_set()\n",
    "        if node == None:\n",
    "            char_dict = self.children\n",
    "        else:\n",
    "            char_dict = node.children\n",
    "            \n",
    "        # This for loop iterates through the suffixes by calling upon\n",
    "        # recurse_suffix_helper recursively.\n",
    "        for char in char_dict:\n",
    "            # This creates suffix_tracker to be put into\n",
    "            # recurse_suffix_helper for the suffix_set argument.\n",
    "            if node == None:\n",
    "                suffix_tracker = self.blank_set()\n",
    "            else:\n",
    "                suffix_tracker = suffix_set\n",
    "                \n",
    "            # This creates new_suffix to be put into\n",
    "            # recurse_suffix_helper for the suffix argument.\n",
    "            new_suffix = suffix + char\n",
    "            \n",
    "            # This creates the node to be put into\n",
    "            # recurse_suffix_helper for the node argument.\n",
    "            if node is None:\n",
    "                new_node = self.children[char]\n",
    "            else:\n",
    "                new_node = node.children[char]\n",
    "            \n",
    "            # The output is set to the recursive function.\n",
    "            output = self.recurse_suffix_helper(new_node, new_suffix,\n",
    "                                                suffix_tracker, debugging)\n",
    "            \n",
    "            # Once the output is actualized, the function is done\n",
    "            # recursing, if there is anything in the output, it is appended\n",
    "            # to the output_collection set.\n",
    "            if len(output) >= 1:\n",
    "                for i in output:\n",
    "                    output_collection.add(i)\n",
    "                    \n",
    "        # Once the for loop is over, the output collection set is returned.\n",
    "        return output_collection\n",
    "        \n",
    "    def suffixes(self):\n",
    "        ## Recursive function that collects the suffix for \n",
    "        ## all complete words below this point\n",
    "        output = self.recurse_suffix_helper()\n",
    "        output = list(output)\n",
    "        output.sort()\n",
    "        return output"
   ]
  },
  {
   "cell_type": "markdown",
   "metadata": {},
   "source": [
    "# Testing it all out\n",
    "\n",
    "Run the following code to add some words to your trie and then use the interactive search box to see what your code returns."
   ]
  },
  {
   "cell_type": "code",
   "execution_count": 4,
   "metadata": {},
   "outputs": [],
   "source": [
    "MyTrie = Trie()\n",
    "wordList = [\n",
    "    \"ant\", \"anthology\", \"antagonist\", \"antonym\", \n",
    "    \"fun\", \"function\", \"factory\", \n",
    "    \"trie\", \"trigger\", \"trigonometry\", \"tripod\"\n",
    "]\n",
    "for word in wordList:\n",
    "    MyTrie.insert_word(word)"
   ]
  },
  {
   "cell_type": "code",
   "execution_count": 5,
   "metadata": {},
   "outputs": [],
   "source": [
    "a_word = MyTrie.find(\"a\")"
   ]
  },
  {
   "cell_type": "code",
   "execution_count": 6,
   "metadata": {},
   "outputs": [
    {
     "data": {
      "text/plain": [
       "{'nt', 'ntagonist', 'nthology', 'ntonym'}"
      ]
     },
     "execution_count": 6,
     "metadata": {},
     "output_type": "execute_result"
    }
   ],
   "source": [
    "a_word.recurse_suffix_helper()"
   ]
  },
  {
   "cell_type": "code",
   "execution_count": 7,
   "metadata": {},
   "outputs": [
    {
     "data": {
      "application/vnd.jupyter.widget-view+json": {
       "model_id": "2e86de52ea174e7cb902c6be90553a85",
       "version_major": 2,
       "version_minor": 0
      },
      "text/plain": [
       "interactive(children=(Text(value='', description='prefix'), Output()), _dom_classes=('widget-interact',))"
      ]
     },
     "metadata": {},
     "output_type": "display_data"
    }
   ],
   "source": [
    "from ipywidgets import widgets\n",
    "from IPython.display import display\n",
    "from ipywidgets import interact\n",
    "def f(prefix):\n",
    "    if prefix != '':\n",
    "        prefixNode = MyTrie.find(prefix)\n",
    "        if prefixNode:\n",
    "            print('\\n'.join(prefixNode.suffixes()))\n",
    "        else:\n",
    "            print(prefix + \" not found\")\n",
    "    else:\n",
    "        print('')\n",
    "interact(f,prefix='');"
   ]
  },
  {
   "cell_type": "code",
   "execution_count": 8,
   "metadata": {},
   "outputs": [],
   "source": [
    "# REFERENCES\n",
    "# 1. Udacity Data Structures & Algorithms Nanodegree; 3) Basic Algorithms; \n",
    "#        1) Basic Algorithms; 6) Tries\n",
    "# 2. Udacity Data Structures & Algorithms Nanodegree; 3) Basic Algorithms; \n",
    "#        4) Problems Vs Algorithms; 6) Problem 5: Autocomplete with Tries"
   ]
  }
 ],
 "metadata": {
  "kernelspec": {
   "display_name": "Python 3",
   "language": "python",
   "name": "python3"
  },
  "language_info": {
   "codemirror_mode": {
    "name": "ipython",
    "version": 3
   },
   "file_extension": ".py",
   "mimetype": "text/x-python",
   "name": "python",
   "nbconvert_exporter": "python",
   "pygments_lexer": "ipython3",
   "version": "3.7.4"
  }
 },
 "nbformat": 4,
 "nbformat_minor": 2
}
