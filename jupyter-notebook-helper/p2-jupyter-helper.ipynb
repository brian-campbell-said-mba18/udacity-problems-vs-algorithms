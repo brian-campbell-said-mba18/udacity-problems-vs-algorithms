{
 "cells": [
  {
   "cell_type": "markdown",
   "metadata": {},
   "source": [
    "# Problem 2 Jupyter Helper"
   ]
  },
  {
   "cell_type": "code",
   "execution_count": 104,
   "metadata": {},
   "outputs": [],
   "source": [
    "def five_bin_helper(py_list):\n",
    "    '''\n",
    "    Function Purpose: This takes a python list that has a length (n)\n",
    "        greater than 5 and returns 5 python sub lists. If the original\n",
    "        python list is divisible by 5, the bins will have equal lengths,\n",
    "        otherwise, this algorithm distributes the items as evenly as\n",
    "        possible. The values in the original list are integers.\n",
    "        \n",
    "    Arguments: A python list with a length greater than 5 (n < 5).\n",
    "    \n",
    "    Returns: 5 python sub lists.\n",
    "    '''\n",
    "    \n",
    "    # An error is raised if the argument is not a list.\n",
    "    assert type(py_list) == list, \"The argument must be a list.\"\n",
    "    \n",
    "    # An error is raised if the list length is < 5.\n",
    "    assert len(py_list) > 5, f'''\n",
    "    The argument list must have a length greater than 5.\n",
    "    '''\n",
    "    \n",
    "    # This initiates the variable, selection, and the 5 sub lists.\n",
    "    selection = 1\n",
    "    bucket_1 = []\n",
    "    bucket_2 = []\n",
    "    bucket_3 = []\n",
    "    bucket_4 = []\n",
    "    bucket_5 = []\n",
    "    \n",
    "    # This for loop places an item in a sub list depending upon the value\n",
    "    # of the variable, selection. For example, if selection == 3, then\n",
    "    # an item is placed in bucket_3, and selection is then updated to\n",
    "    # 4. When a value is added to the bucket_5, selection resets to 1.\n",
    "    for i in py_list:\n",
    "        if selection == 1:\n",
    "            bucket_1.append(i)\n",
    "            selection += 1\n",
    "            continue\n",
    "            \n",
    "        if selection == 2:\n",
    "            bucket_2.append(i)\n",
    "            selection += 1\n",
    "            continue\n",
    "            \n",
    "        if selection == 3:\n",
    "            bucket_3.append(i)\n",
    "            selection += 1\n",
    "            continue\n",
    "            \n",
    "        if selection == 4:\n",
    "            bucket_4.append(i)\n",
    "            selection += 1\n",
    "            continue\n",
    "            \n",
    "        if selection == 5:\n",
    "            bucket_5.append(i)\n",
    "            selection = 1\n",
    "            continue\n",
    "    \n",
    "    # The sub lists are returned.\n",
    "    return bucket_1, bucket_2, bucket_3, bucket_4, bucket_5"
   ]
  },
  {
   "cell_type": "code",
   "execution_count": 105,
   "metadata": {},
   "outputs": [],
   "source": [
    "def median_list_helper(bin1, bin2, bin3, bin4, bin5):\n",
    "    '''\n",
    "    Funtion Purpose: This function sorts each of 5 bins and returns its\n",
    "        median. Then each median is put into a list, md_list.\n",
    "        \n",
    "    Arguments: 5 bins: bin1, bin2, ... bin5.\n",
    "    \n",
    "    Returns: A list of medians from each of the five bins.\n",
    "    '''\n",
    "    \n",
    "    # Bin 1 is sorted and its median is found.\n",
    "    bin1.sort()\n",
    "    md_1 = bin1[(len(bin1)-1) // 2]\n",
    "    \n",
    "    # Bin 2 is sorted and its median is found.\n",
    "    bin2.sort()\n",
    "    md_2 = bin2[(len(bin2)-1) // 2]\n",
    "    \n",
    "    # Bin 3 is sorted and its median is found.\n",
    "    bin3.sort()\n",
    "    md_3 = bin3[(len(bin3)-1) // 2]\n",
    "    \n",
    "    # Bin 4 is sorted and its median is found.\n",
    "    bin4.sort()\n",
    "    md_4 = bin4[(len(bin4)-1) // 2]\n",
    "    \n",
    "    # Bin 5 is sorted and its median is found.\n",
    "    bin5.sort()\n",
    "    md_5 = bin5[(len(bin5)-1) // 2]\n",
    "    \n",
    "    md_list = [md_1, md_2, md_3, md_4, md_5]\n",
    "    \n",
    "    # This returns the list of medians.\n",
    "    return md_list\n",
    "    "
   ]
  },
  {
   "cell_type": "code",
   "execution_count": 106,
   "metadata": {},
   "outputs": [],
   "source": [
    "def recurse_pivot_helper(arr):\n",
    "    '''\n",
    "    Function Purpose: This is an ancillary funciton. It either returns\n",
    "        a pivot from an array that has a length (n) less than or equal to \n",
    "        5, or it creates 5 buckets of n/5 lengths, sorts each bucket, and \n",
    "        puts their medians into a median list, median_list. Once the\n",
    "        median list is made, the function calls itself.\n",
    "        \n",
    "    Arguments: An array of integers, arr.\n",
    "    \n",
    "    Returns: A pivot, an approximate estimate of a median.\n",
    "    '''\n",
    "    \n",
    "    if len(arr) <= 5:\n",
    "        arr.sort()\n",
    "        the_pivot = arr[(len(arr) - 1) // 2]\n",
    "        return the_pivot\n",
    "    \n",
    "    # In the recursive case, this creates the five buckets.\n",
    "    buck1, buck2, buck3, buck4, buck5 = five_bin_helper(arr)\n",
    "    \n",
    "    # This creates the median list from the five buckets.\n",
    "    median_list = median_list_helper(buck1, buck2, buck3, buck4, buck5)\n",
    "    \n",
    "    # This returns the pivot\n",
    "    pivot = recurse_pivot_helper(median_list)\n",
    "    return pivot"
   ]
  },
  {
   "cell_type": "code",
   "execution_count": 107,
   "metadata": {},
   "outputs": [],
   "source": [
    "import random"
   ]
  },
  {
   "cell_type": "code",
   "execution_count": 108,
   "metadata": {},
   "outputs": [],
   "source": [
    "test_list = [i for i in range(0,25,1)]\n",
    "random.shuffle(test_list)"
   ]
  },
  {
   "cell_type": "code",
   "execution_count": 109,
   "metadata": {},
   "outputs": [],
   "source": [
    "buck1, buck2, buck3, buck4, buck5 = five_bin_helper(test_list)"
   ]
  },
  {
   "cell_type": "code",
   "execution_count": 110,
   "metadata": {},
   "outputs": [],
   "source": [
    "some_pivot = recurse_pivot_helper(test_list)"
   ]
  },
  {
   "cell_type": "code",
   "execution_count": 111,
   "metadata": {},
   "outputs": [
    {
     "data": {
      "text/plain": [
       "10"
      ]
     },
     "execution_count": 111,
     "metadata": {},
     "output_type": "execute_result"
    }
   ],
   "source": [
    "some_pivot"
   ]
  },
  {
   "cell_type": "markdown",
   "metadata": {},
   "source": [
    "# NEW DIRECTION:\n",
    "\n",
    "In this solution, I am cutting the original list in half, and on the sorted half, I am using a binary search, which has the runtime of O(log (n))."
   ]
  },
  {
   "cell_type": "markdown",
   "metadata": {},
   "source": [
    "## Binary Search Algorithm"
   ]
  },
  {
   "cell_type": "code",
   "execution_count": 64,
   "metadata": {},
   "outputs": [],
   "source": [
    "def bin_search_helper(arr, target, beg, end):\n",
    "    '''\n",
    "    Helper Function Purpose: This helper function searches for a target \n",
    "        number in an sorted array. If the target number is found, the\n",
    "        function returns the index in which it was found. Otherwise, it\n",
    "        returns -1. Note, this helper function is a recursive function.\n",
    "        \n",
    "    Arguments: Arr = the array to search in. Target = the number that is\n",
    "        querried. Beg = the beginning index. End = the end index.\n",
    "        \n",
    "    Returns: The index of the target number, or -1 if the target number is\n",
    "        not in the array.\n",
    "    '''\n",
    "    # This is a base case in which there is only one element in the array.\n",
    "    # If the target is found, then the index is returned. Otherwise, -1 \n",
    "    # is returned.\n",
    "    if beg >= end:\n",
    "        if target == arr[beg]:\n",
    "            return beg\n",
    "        else:\n",
    "            return -1\n",
    "    \n",
    "    # This initiates the midpoint variable to be used for the recursive\n",
    "    # functions below.\n",
    "    midpoint = (beg + end) // 2\n",
    "    \n",
    "    # This is another base case, if the target is at the midpoint of the\n",
    "    # array, we return the midpoint index.\n",
    "    if target == arr[midpoint]:\n",
    "        return midpoint\n",
    "    \n",
    "    # This is the first recursive case. If the target is less than the \n",
    "    # midpoint value, we recurse the half of the array below the midpoint \n",
    "    # index.\n",
    "    if target < arr[midpoint]:\n",
    "        return bin_search_helper(arr, target, beg, midpoint - 1)\n",
    "    \n",
    "    # This is the first recursive case. If the target is greater than the \n",
    "    # midpoint value, we recurse the half of the array above the midpoint \n",
    "    # index.\n",
    "    if target > arr[midpoint]:\n",
    "        return bin_search_helper(arr, target, midpoint + 1, end)"
   ]
  },
  {
   "cell_type": "markdown",
   "metadata": {},
   "source": [
    "## EXECUTE BIN SEARCH NOT NEEDED FOR FINAL SOLUTION!!!!"
   ]
  },
  {
   "cell_type": "code",
   "execution_count": 65,
   "metadata": {},
   "outputs": [],
   "source": [
    "def execute_bin_search(arr, target):\n",
    "    start_index = 0\n",
    "    end_index = len(arr) - 1\n",
    "    return bin_search_helper(arr, target, start_index, end_index)"
   ]
  },
  {
   "cell_type": "code",
   "execution_count": 66,
   "metadata": {},
   "outputs": [],
   "source": [
    "test_list_1 = [i for i in range(0,10,1)]\n",
    "\n",
    "test_list_2 = [i for i in range (1, 33, 2)]"
   ]
  },
  {
   "cell_type": "code",
   "execution_count": 67,
   "metadata": {},
   "outputs": [
    {
     "data": {
      "text/plain": [
       "7"
      ]
     },
     "execution_count": 67,
     "metadata": {},
     "output_type": "execute_result"
    }
   ],
   "source": [
    "execute_bin_search(test_list_1, 7)"
   ]
  },
  {
   "cell_type": "code",
   "execution_count": 68,
   "metadata": {},
   "outputs": [
    {
     "data": {
      "text/plain": [
       "-1"
      ]
     },
     "execution_count": 68,
     "metadata": {},
     "output_type": "execute_result"
    }
   ],
   "source": [
    "execute_bin_search(test_list_2, 8)"
   ]
  },
  {
   "cell_type": "markdown",
   "metadata": {},
   "source": [
    "## Left Right Split"
   ]
  },
  {
   "cell_type": "code",
   "execution_count": 69,
   "metadata": {},
   "outputs": [],
   "source": [
    "def left_right_bin_helper(the_array, the_target, beg_ind, end_ind):\n",
    "    '''\n",
    "    Helper Function Purpose: The purpose of this function is to split a\n",
    "        rotated array into two halves, a lower and upper half. This\n",
    "        function identifies which half is sorted, and performs a binary\n",
    "        search on that half. The binary search identifies whether\n",
    "        the target number, the_taret, is in the half of the array. If\n",
    "        the_target is not found, this function recursively calls itself.\n",
    "    \n",
    "    Arguments: The_array = the array that the_target is searched in.\n",
    "        The_target = the qurried number that is searched for in the_array.\n",
    "        Beg_index = the beginning index of the search.\n",
    "        End_index = the end index of the search.\n",
    "        \n",
    "    Returns: If the_target is in the_array, the index of the target value\n",
    "        is returned. Otherwise, -1 is returned.\n",
    "    '''\n",
    "    \n",
    "    # This is the base case. If there is only one item in the array, this\n",
    "    # value is querried to determine whether the target exists within the\n",
    "    # array.\n",
    "    \n",
    "    if beg_ind >= end_ind:\n",
    "        if the_array[beg_ind] == the_target:\n",
    "            return beg_ind\n",
    "        else:\n",
    "            return -1\n",
    "    \n",
    "    # This initiates the median value. This is an estimate.\n",
    "    median = (beg_ind + end_ind) // 2\n",
    "    \n",
    "    \n",
    "    # If the bottom half of the array is sorted, then a binary search is\n",
    "    # performed on the bottom half. If the target value is found, then\n",
    "    # the index is returned. Otherwise, this function is recursively called\n",
    "    # to examine the top half of the array.\n",
    "    if the_array[beg_ind] < the_array[median]:\n",
    "        output = bin_search_helper(the_array, the_target, beg_ind, median)\n",
    "        if output != -1:\n",
    "            return output\n",
    "        else:\n",
    "            return left_right_bin_helper(the_array, the_target, \n",
    "                                         median + 1, end_ind)\n",
    "    \n",
    "    # If the bottom half of the array is not sorted, then a binary search\n",
    "    # is performed on the top half. If the target value is found, then\n",
    "    # the index is returned. Otherwise, this function is recursively called\n",
    "    # to examine the bottom half of the array.\n",
    "    if the_array[beg_ind] >= the_array[median]:\n",
    "        output = bin_search_helper(the_array, the_target, median + 1, \n",
    "                                  end_ind)\n",
    "        if output != -1:\n",
    "            return output\n",
    "        else:\n",
    "            return left_right_bin_helper(the_array, the_target, beg_ind,\n",
    "                                        median)\n",
    "            "
   ]
  },
  {
   "cell_type": "code",
   "execution_count": 70,
   "metadata": {},
   "outputs": [],
   "source": [
    "def rotated_array_search(input_arr, target_num):\n",
    "    '''\n",
    "    Function Purpose: The purpose of this function is to identify whether\n",
    "        a target number, target_num, is within an array, input_array. If it\n",
    "        is, this function returns the index in which the target number can\n",
    "        be found. Otherwise, -1 is returned. This function uses the \n",
    "        assistance of a helper function, left_right_bin_helper, to perform\n",
    "        the query.\n",
    "    \n",
    "    Arguments: Input_arr = the array in which target_num is searched in.\n",
    "        Target_num = the target num that is searched for in input_arr.\n",
    "    '''\n",
    "    # In the case that there is nothing in the input array, this function\n",
    "    # returns -1.\n",
    "    if len(input_arr) == 0:\n",
    "        return -1\n",
    "    \n",
    "    # This initiates the beginning and end index variables reqired for\n",
    "    # the left_right_bin_helper to perform the search.\n",
    "    first_index = 0\n",
    "    last_index = len(input_arr) - 1\n",
    "    \n",
    "    # This executes the search using left_right_bin_helper.\n",
    "    return left_right_bin_helper(input_arr, target_num, first_index,\n",
    "                                 last_index)"
   ]
  },
  {
   "cell_type": "code",
   "execution_count": 71,
   "metadata": {},
   "outputs": [],
   "source": [
    "def linear_search(input_list, number):\n",
    "    '''\n",
    "    Function Purpose: This is a boilerplate function provided by Udacity.\n",
    "        It searches for a value within an array in linear time.\n",
    "        \n",
    "    Reference: Reference 1 of References.\n",
    "    '''\n",
    "    for index, element in enumerate(input_list):\n",
    "        if element == number:\n",
    "            return index\n",
    "    return -1"
   ]
  },
  {
   "cell_type": "code",
   "execution_count": 72,
   "metadata": {},
   "outputs": [],
   "source": [
    "def test_function(test_case):\n",
    "    '''\n",
    "    Function Purpose: This is a boilerplate function provided by Udacity. It\n",
    "        compares the answers of rotated_array_search function to the \n",
    "        linear_search function. If the answers equal each other, the\n",
    "        rotated_array_search fucntion passed, and \"pass\" is printed.\n",
    "        Otherwise, the rotated_array_search function failed and \"fail\" is\n",
    "        printed.\n",
    "        \n",
    "    Reference: Reference 1 of References.\n",
    "    '''\n",
    "    input_list = test_case[0]\n",
    "    number = test_case[1]\n",
    "    if linear_search(input_list, number) == rotated_array_search(input_list, number):\n",
    "        print(\"Pass\")\n",
    "    else:\n",
    "        print(\"Fail\")"
   ]
  },
  {
   "cell_type": "code",
   "execution_count": 73,
   "metadata": {},
   "outputs": [
    {
     "name": "stdout",
     "output_type": "stream",
     "text": [
      "Pass\n",
      "Pass\n",
      "Pass\n",
      "Pass\n",
      "Pass\n"
     ]
    }
   ],
   "source": [
    "test_function([[6, 7, 8, 9, 10, 1, 2, 3, 4], 6])\n",
    "test_function([[6, 7, 8, 9, 10, 1, 2, 3, 4], 1])\n",
    "test_function([[6, 7, 8, 1, 2, 3, 4], 8])\n",
    "test_function([[6, 7, 8, 1, 2, 3, 4], 1])\n",
    "test_function([[6, 7, 8, 1, 2, 3, 4], 10])"
   ]
  },
  {
   "cell_type": "code",
   "execution_count": 74,
   "metadata": {},
   "outputs": [],
   "source": [
    "# REFERENCES:\n",
    "# 1. Data Structures & Algorithms Nanodegree; 3) Basic Algorithms;\n",
    "#    4) Problems Vs Algorithms; 3) Problem 2: Search in a Sorted Array.\n",
    "# 2. Data Structures & Algorithms Nanodegree; 3) Basic Algorithms;\n",
    "#    1) Basic Algorithms; 3) Binary Search Practice"
   ]
  }
 ],
 "metadata": {
  "kernelspec": {
   "display_name": "Python 3",
   "language": "python",
   "name": "python3"
  },
  "language_info": {
   "codemirror_mode": {
    "name": "ipython",
    "version": 3
   },
   "file_extension": ".py",
   "mimetype": "text/x-python",
   "name": "python",
   "nbconvert_exporter": "python",
   "pygments_lexer": "ipython3",
   "version": "3.7.4"
  }
 },
 "nbformat": 4,
 "nbformat_minor": 2
}
