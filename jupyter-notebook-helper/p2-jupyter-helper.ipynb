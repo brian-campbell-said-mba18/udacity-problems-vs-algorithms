{
 "cells": [
  {
   "cell_type": "markdown",
   "metadata": {},
   "source": [
    "# Problem 2 Jupyter Helper"
   ]
  },
  {
   "cell_type": "code",
   "execution_count": 3,
   "metadata": {},
   "outputs": [],
   "source": [
    "def get_min_max(arr):\n",
    "    '''\n",
    "    Function Purpose: This returns the minimum value and the maximum value\n",
    "        of a python list of integers.\n",
    "    Args:\n",
    "       1. arr - a list of integers.\n",
    "       \n",
    "    Returns:\n",
    "        The minimum and maximum values in tuptle form: (minimum, maximum).\n",
    "    '''\n",
    "    # This raises an error if the argument is not a python list.\n",
    "    assert type(arr) == list, f'''\n",
    "    The argument must be a python list.'''\n",
    "    \n",
    "    min_value = None\n",
    "    max_value = None\n",
    "    \n",
    "    # If there is nothing in the array, this returns the tuple:\n",
    "    # (None, None)\n",
    "    if len(arr) < 1:\n",
    "        return (min_value, max_value)\n",
    "    \n",
    "    # If there is something in the array, this runs a for loop that finds\n",
    "    # the minimum and maximum values.\n",
    "    else:\n",
    "        for i in arr:\n",
    "            if (min_value == None) and (max_value == None):\n",
    "                min_value = i\n",
    "                max_value = i\n",
    "                continue\n",
    "            if i > max_value:\n",
    "                max_value = i\n",
    "                continue\n",
    "            if i < min_value:\n",
    "                min_value = i\n",
    "    return (min_value, max_value)"
   ]
  },
  {
   "cell_type": "code",
   "execution_count": 5,
   "metadata": {},
   "outputs": [
    {
     "name": "stdout",
     "output_type": "stream",
     "text": [
      "Pass\n"
     ]
    }
   ],
   "source": [
    "# This is the boilerplate example provided by Udacity.\n",
    "import random\n",
    "\n",
    "l = [i for i in range(0, 10)]  # a list containing 0 - 9\n",
    "random.shuffle(l)\n",
    "\n",
    "# The below code should pass. The get_min_max funciton should produce\n",
    "# (0,9)\n",
    "print(\"Pass\" if ((0, 9) == get_min_max(l)) else \"Fail\")"
   ]
  },
  {
   "cell_type": "code",
   "execution_count": 8,
   "metadata": {},
   "outputs": [
    {
     "name": "stdout",
     "output_type": "stream",
     "text": [
      "(1, 1)\n"
     ]
    }
   ],
   "source": [
    "# This is a case in which there is only one element in the python list.\n",
    "one_element = [1]\n",
    "\n",
    "print(get_min_max(one_element)) # This should produce (1,1)."
   ]
  },
  {
   "cell_type": "code",
   "execution_count": 6,
   "metadata": {},
   "outputs": [
    {
     "name": "stdout",
     "output_type": "stream",
     "text": [
      "(None, None)\n"
     ]
    }
   ],
   "source": [
    "# This edge case should produce (None, None), because the python list is\n",
    "# empty.\n",
    "len_0_list = []\n",
    "print(get_min_max(len_0_list)) # Should produce (None, None)."
   ]
  },
  {
   "cell_type": "code",
   "execution_count": 10,
   "metadata": {},
   "outputs": [
    {
     "name": "stdout",
     "output_type": "stream",
     "text": [
      "(1000000000000, 1000000000009)\n"
     ]
    }
   ],
   "source": [
    "# This is an edge case of big numbers ranging from 1000000000000 to\n",
    "# 1000000000010. \n",
    "\n",
    "big_numbers = [i for i in range (1000000000000, 1000000000010, 1)]\n",
    "random.shuffle(big_numbers)\n",
    "\n",
    "# The below could should produce a minimum and maximum tuple of\n",
    "# (1000000000000, 1000000000009).\n",
    "print(get_min_max(big_numbers))"
   ]
  }
 ],
 "metadata": {
  "kernelspec": {
   "display_name": "Python 3",
   "language": "python",
   "name": "python3"
  },
  "language_info": {
   "codemirror_mode": {
    "name": "ipython",
    "version": 3
   },
   "file_extension": ".py",
   "mimetype": "text/x-python",
   "name": "python",
   "nbconvert_exporter": "python",
   "pygments_lexer": "ipython3",
   "version": "3.7.4"
  }
 },
 "nbformat": 4,
 "nbformat_minor": 2
}
