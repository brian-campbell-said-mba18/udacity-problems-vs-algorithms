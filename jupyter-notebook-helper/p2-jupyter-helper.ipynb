{
 "cells": [
  {
   "cell_type": "markdown",
   "metadata": {},
   "source": [
    "# Problem 2 Jupyter Helper"
   ]
  },
  {
   "cell_type": "code",
   "execution_count": 56,
   "metadata": {},
   "outputs": [],
   "source": [
    "def five_bin_helper(py_list):\n",
    "    '''\n",
    "    Function Purpose: This takes a python list that has a length (n)\n",
    "        greater than 5 and returns 5 python sub lists. If the original\n",
    "        python list is divisible by 5, the bins will have equal lengths,\n",
    "        otherwise, this algorithm distributes the items as evenly as\n",
    "        possible. The values in the original list are integers.\n",
    "        \n",
    "    Arguments: A python list with a length greater than 5 (n < 5).\n",
    "    \n",
    "    Returns: 5 python sub lists.\n",
    "    '''\n",
    "    \n",
    "    # An error is raised if the argument is not a list.\n",
    "    assert type(py_list) == list, \"The argument must be a list.\"\n",
    "    \n",
    "    # An error is raised if the list length is < 5.\n",
    "    assert len(py_list) > 5, f'''\n",
    "    The argument list must have a length greater than 5.\n",
    "    '''\n",
    "    \n",
    "    # This initiates the variable, selection, and the 5 sub lists.\n",
    "    selection = 1\n",
    "    bucket_1 = []\n",
    "    bucket_2 = []\n",
    "    bucket_3 = []\n",
    "    bucket_4 = []\n",
    "    bucket_5 = []\n",
    "    \n",
    "    # This for loop places an item in a sub list depending upon the value\n",
    "    # of the variable, selection. For example, if selection == 3, then\n",
    "    # an item is placed in bucket_3, and selection is then updated to\n",
    "    # 4. When a value is added to the bucket_5, selection resets to 1.\n",
    "    for i in py_list:\n",
    "        if selection == 1:\n",
    "            bucket_1.append(i)\n",
    "            selection += 1\n",
    "            continue\n",
    "            \n",
    "        if selection == 2:\n",
    "            bucket_2.append(i)\n",
    "            selection += 1\n",
    "            continue\n",
    "            \n",
    "        if selection == 3:\n",
    "            bucket_3.append(i)\n",
    "            selection += 1\n",
    "            continue\n",
    "            \n",
    "        if selection == 4:\n",
    "            bucket_4.append(i)\n",
    "            selection += 1\n",
    "            continue\n",
    "            \n",
    "        if selection == 5:\n",
    "            bucket_5.append(i)\n",
    "            selection = 1\n",
    "            continue\n",
    "    \n",
    "    # The sub lists are returned.\n",
    "    return bucket_1, bucket_2, bucket_3, bucket_4, bucket_5"
   ]
  },
  {
   "cell_type": "code",
   "execution_count": 57,
   "metadata": {},
   "outputs": [],
   "source": [
    "import random"
   ]
  },
  {
   "cell_type": "code",
   "execution_count": 58,
   "metadata": {},
   "outputs": [],
   "source": [
    "test_list = [i for i in range(0,25,1)]\n",
    "random.shuffle(test_list)"
   ]
  },
  {
   "cell_type": "code",
   "execution_count": 59,
   "metadata": {},
   "outputs": [],
   "source": [
    "buck1, buck2, buck3, buck4, buck5 = five_bin_helper(test_list)"
   ]
  },
  {
   "cell_type": "code",
   "execution_count": 62,
   "metadata": {},
   "outputs": [],
   "source": [
    "def median_list_helper(bin1, bin2, bin3, bin4, bin5):\n",
    "    '''\n",
    "    Funtion Purpose: This function sorts each of 5 bins and returns its\n",
    "        median. Then each median is put into a list, md_list.\n",
    "        \n",
    "    Arguments: 5 bins: bin1, bin2, ... bin5.\n",
    "    \n",
    "    Returns: A list of medians from each of the five bins.\n",
    "    '''\n",
    "    \n",
    "    # Bin 1 is sorted and its median is found.\n",
    "    bin1.sort()\n",
    "    md_1 = bin1[(len(bin1)-1) // 2]\n",
    "    \n",
    "    # Bin 2 is sorted and its median is found.\n",
    "    bin2.sort()\n",
    "    md_2 = bin2[(len(bin2)-1) // 2]\n",
    "    \n",
    "    # Bin 3 is sorted and its median is found.\n",
    "    bin3.sort()\n",
    "    md_3 = bin3[(len(bin3)-1) // 2]\n",
    "    \n",
    "    # Bin 4 is sorted and its median is found.\n",
    "    bin4.sort()\n",
    "    md_4 = bin4[(len(bin4)-1) // 2]\n",
    "    \n",
    "    # Bin 5 is sorted and its median is found.\n",
    "    bin5.sort()\n",
    "    md_5 = bin5[(len(bin5)-1) // 2]\n",
    "    \n",
    "    md_list = [md_1, md_2, md_3, md_4, md_5]\n",
    "    \n",
    "    # This returns the list of medians.\n",
    "    return md_list\n",
    "    "
   ]
  },
  {
   "cell_type": "code",
   "execution_count": 63,
   "metadata": {},
   "outputs": [],
   "source": [
    "median_list = median_list_helper(buck1, buck2, buck3, buck4, buck5)"
   ]
  },
  {
   "cell_type": "code",
   "execution_count": 64,
   "metadata": {},
   "outputs": [
    {
     "data": {
      "text/plain": [
       "[19, 10, 9, 13, 2]"
      ]
     },
     "execution_count": 64,
     "metadata": {},
     "output_type": "execute_result"
    }
   ],
   "source": [
    "median_list"
   ]
  }
 ],
 "metadata": {
  "kernelspec": {
   "display_name": "Python 3",
   "language": "python",
   "name": "python3"
  },
  "language_info": {
   "codemirror_mode": {
    "name": "ipython",
    "version": 3
   },
   "file_extension": ".py",
   "mimetype": "text/x-python",
   "name": "python",
   "nbconvert_exporter": "python",
   "pygments_lexer": "ipython3",
   "version": "3.7.4"
  }
 },
 "nbformat": 4,
 "nbformat_minor": 2
}
