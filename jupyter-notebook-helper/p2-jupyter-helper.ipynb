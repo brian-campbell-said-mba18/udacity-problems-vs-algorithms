{
 "cells": [
  {
   "cell_type": "markdown",
   "metadata": {},
   "source": [
    "# Problem 2 Jupyter Helper"
   ]
  },
  {
   "cell_type": "code",
   "execution_count": 28,
   "metadata": {},
   "outputs": [],
   "source": [
    "def create_bucket_helper(py_list):\n",
    "    '''\n",
    "    Function Purpose: This takes a python list that has a length (n)\n",
    "        greater than 5 and returns 5 python sub lists. If the original\n",
    "        python list is divisible by 5, the bins will have equal lengths,\n",
    "        otherwise, this algorithm distributes the items as evenly as\n",
    "        possible. The values in the original list are integers.\n",
    "        \n",
    "    Arguments: A python list with a length greater than 5 (n < 5).\n",
    "    \n",
    "    Returns: 5 python sub lists.\n",
    "    '''\n",
    "    \n",
    "    # An error is raised if the argument is not a list.\n",
    "    assert type(py_list) == list, \"The argument must be a list.\"\n",
    "    \n",
    "    # An error is raised if the list length is < 5.\n",
    "    assert len(py_list) > 5, f'''\n",
    "    The argument list must have a length greater than 5.\n",
    "    '''\n",
    "    \n",
    "    # This initiates the variable, selection, and the 5 sub lists.\n",
    "    selection = 1\n",
    "    bucket_1 = []\n",
    "    bucket_2 = []\n",
    "    bucket_3 = []\n",
    "    bucket_4 = []\n",
    "    bucket_5 = []\n",
    "    \n",
    "    # This for loop places an item in a sub list depending upon the value\n",
    "    # of the variable, selection. For example, if selection == 3, then\n",
    "    # an item is placed in bucket_3, and selection is then updated to\n",
    "    # 4. When a value is added to the bucket_5, selection resets to 1.\n",
    "    for i in py_list:\n",
    "        if selection == 1:\n",
    "            bucket_1.append(i)\n",
    "            selection += 1\n",
    "            continue\n",
    "            \n",
    "        if selection == 2:\n",
    "            bucket_2.append(i)\n",
    "            selection += 1\n",
    "            continue\n",
    "            \n",
    "        if selection == 3:\n",
    "            bucket_3.append(i)\n",
    "            selection += 1\n",
    "            continue\n",
    "            \n",
    "        if selection == 4:\n",
    "            bucket_4.append(i)\n",
    "            selection += 1\n",
    "            continue\n",
    "            \n",
    "        if selection == 5:\n",
    "            bucket_5.append(i)\n",
    "            selection = 1\n",
    "            continue\n",
    "    \n",
    "    # The sub lists are returned.\n",
    "    return bucket_1, bucket_2, bucket_3, bucket_4, bucket_5"
   ]
  }
 ],
 "metadata": {
  "kernelspec": {
   "display_name": "Python 3",
   "language": "python",
   "name": "python3"
  },
  "language_info": {
   "codemirror_mode": {
    "name": "ipython",
    "version": 3
   },
   "file_extension": ".py",
   "mimetype": "text/x-python",
   "name": "python",
   "nbconvert_exporter": "python",
   "pygments_lexer": "ipython3",
   "version": "3.7.4"
  }
 },
 "nbformat": 4,
 "nbformat_minor": 2
}
