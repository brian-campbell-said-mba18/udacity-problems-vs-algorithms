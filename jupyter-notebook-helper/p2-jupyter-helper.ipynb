{
 "cells": [
  {
   "cell_type": "markdown",
   "metadata": {},
   "source": [
    "# Problem 2 Jupyter Helper"
   ]
  },
  {
   "cell_type": "code",
   "execution_count": 3,
   "metadata": {},
   "outputs": [],
   "source": [
    "def get_min_max(arr):\n",
    "    '''\n",
    "    Function Purpose: This returns the minimum value and the maximum value\n",
    "        of a python list of integers.\n",
    "    Args:\n",
    "       1. arr - a list of integers.\n",
    "       \n",
    "    Returns:\n",
    "        The minimum and maximum values in tuptle form: (minimum, maximum).\n",
    "    '''\n",
    "    # This raises an error if the argument is not a python list.\n",
    "    assert type(arr) == list, f'''\n",
    "    The argument must be a python list.'''\n",
    "    \n",
    "    min_value = None\n",
    "    max_value = None\n",
    "    \n",
    "    # If there is nothing in the array, this returns the tuple:\n",
    "    # (None, None)\n",
    "    if len(arr) < 1:\n",
    "        return (min_value, max_value)\n",
    "    \n",
    "    # If there is something in the array, this runs a for loop that finds\n",
    "    # the minimum and maximum values.\n",
    "    else:\n",
    "        for i in arr:\n",
    "            if (min_value == None) and (max_value == None):\n",
    "                min_value = i\n",
    "                max_value = i\n",
    "                continue\n",
    "            if i > max_value:\n",
    "                max_value = i\n",
    "                continue\n",
    "            if i < min_value:\n",
    "                min_value = i\n",
    "    return (min_value, max_value)"
   ]
  }
 ],
 "metadata": {
  "kernelspec": {
   "display_name": "Python 3",
   "language": "python",
   "name": "python3"
  },
  "language_info": {
   "codemirror_mode": {
    "name": "ipython",
    "version": 3
   },
   "file_extension": ".py",
   "mimetype": "text/x-python",
   "name": "python",
   "nbconvert_exporter": "python",
   "pygments_lexer": "ipython3",
   "version": "3.7.4"
  }
 },
 "nbformat": 4,
 "nbformat_minor": 2
}
