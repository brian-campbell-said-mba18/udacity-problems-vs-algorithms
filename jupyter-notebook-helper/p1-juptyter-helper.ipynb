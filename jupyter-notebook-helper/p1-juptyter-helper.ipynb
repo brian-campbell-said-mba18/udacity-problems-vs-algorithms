{
 "cells": [
  {
   "cell_type": "markdown",
   "metadata": {},
   "source": [
    "# Problem 1 Jupyter Helper"
   ]
  },
  {
   "cell_type": "code",
   "execution_count": 16,
   "metadata": {},
   "outputs": [],
   "source": [
    "def sqrt(number):\n",
    "    '''\n",
    "    Function Purpose: The purpose of this function is to find the square root rounded down to the\n",
    "        nearest integer for a number, the argument.\n",
    "        \n",
    "        Argument: An integer value greater than or equal to 0, AKA number.\n",
    "        \n",
    "        Returns: The square root rounded down to the nearest integer.\n",
    "    '''\n",
    "    # These assertion errors assert that the argument, number is both greater than or equal to 0\n",
    "    # and that the number is an interger.\n",
    "    assert number >= 0, \"The number must be greater than or equal to 0\"\n",
    "    assert type(number) == int, \"The number must be an integer\"\n",
    "    \n",
    "    # For a number == 1, this conditional returns its square root with a runtime of\n",
    "    # O(1).\n",
    "    if number == 1:\n",
    "        return number\n",
    "    \n",
    "    # For any integers greater than 1, this while loop returns the square root value in\n",
    "    # O(log(n)) time, were n is definted as the range of the number from 0 to n inclusive.\n",
    "    query = number // 2\n",
    "    while query * query > number:\n",
    "        query -= 1\n",
    "    return query"
   ]
  },
  {
   "cell_type": "code",
   "execution_count": 17,
   "metadata": {},
   "outputs": [
    {
     "name": "stdout",
     "output_type": "stream",
     "text": [
      "Pass\n",
      "Pass\n",
      "Pass\n",
      "Pass\n",
      "Pass\n"
     ]
    }
   ],
   "source": [
    "print (\"Pass\" if  (3 == sqrt(9)) else \"Fail\")\n",
    "print (\"Pass\" if  (0 == sqrt(0)) else \"Fail\")\n",
    "print (\"Pass\" if  (4 == sqrt(16)) else \"Fail\")\n",
    "print (\"Pass\" if  (1 == sqrt(1)) else \"Fail\")\n",
    "print (\"Pass\" if  (5 == sqrt(27)) else \"Fail\")"
   ]
  }
 ],
 "metadata": {
  "kernelspec": {
   "display_name": "Python 3",
   "language": "python",
   "name": "python3"
  },
  "language_info": {
   "codemirror_mode": {
    "name": "ipython",
    "version": 3
   },
   "file_extension": ".py",
   "mimetype": "text/x-python",
   "name": "python",
   "nbconvert_exporter": "python",
   "pygments_lexer": "ipython3",
   "version": "3.7.4"
  }
 },
 "nbformat": 4,
 "nbformat_minor": 2
}
