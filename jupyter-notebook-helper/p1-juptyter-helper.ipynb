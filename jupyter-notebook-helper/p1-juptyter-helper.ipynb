{
 "cells": [
  {
   "cell_type": "markdown",
   "metadata": {},
   "source": [
    "# Problem 1 Jupyter Helper"
   ]
  },
  {
   "cell_type": "code",
   "execution_count": 2,
   "metadata": {},
   "outputs": [],
   "source": [
    "def sqrt(number):\n",
    "    '''\n",
    "    Function Purpose: The purpose of this function is to find the square root rounded down to the\n",
    "        nearest integer for a number, the argument.\n",
    "        \n",
    "        Argument: An integer value greater than or equal to 0, AKA number.\n",
    "        \n",
    "        Returns: The square root rounded down to the nearest integer.\n",
    "    '''\n",
    "    # These assertion errors assert that the argument, number is both greater than or equal to 0\n",
    "    # and that the number is an interger.\n",
    "    assert number >= 0, \"The number must be greater than or equal to 0\"\n",
    "    assert type(number) == int, \"The number must be an integer\"\n",
    "    \n",
    "    # For a number == 1, this conditional returns its square root with a runtime of\n",
    "    # O(1).\n",
    "    if number == 1:\n",
    "        return number\n",
    "    \n",
    "    # For any integers greater than 1, this while loop returns the square root value in\n",
    "    # O(log(n)) time, were n is definted as the range of the number from 0 to n inclusive.\n",
    "    query = number // 2\n",
    "    while query * query > number:\n",
    "        query -= 1\n",
    "    return query"
   ]
  },
  {
   "cell_type": "code",
   "execution_count": 3,
   "metadata": {
    "scrolled": true
   },
   "outputs": [
    {
     "name": "stdout",
     "output_type": "stream",
     "text": [
      "Pass\n",
      "Pass\n",
      "Pass\n",
      "Pass\n",
      "Pass\n"
     ]
    }
   ],
   "source": [
    "print (\"Pass\" if  (3 == sqrt(9)) else \"Fail\")\n",
    "print (\"Pass\" if  (0 == sqrt(0)) else \"Fail\")\n",
    "print (\"Pass\" if  (4 == sqrt(16)) else \"Fail\")\n",
    "print (\"Pass\" if  (1 == sqrt(1)) else \"Fail\")\n",
    "print (\"Pass\" if  (5 == sqrt(27)) else \"Fail\")"
   ]
  },
  {
   "cell_type": "code",
   "execution_count": 27,
   "metadata": {},
   "outputs": [
    {
     "data": {
      "text/plain": [
       "10000"
      ]
     },
     "execution_count": 27,
     "metadata": {},
     "output_type": "execute_result"
    }
   ],
   "source": [
    "first_edge = sqrt(100000000)\n",
    "first_edge"
   ]
  },
  {
   "cell_type": "code",
   "execution_count": 29,
   "metadata": {},
   "outputs": [
    {
     "name": "stdout",
     "output_type": "stream",
     "text": [
      "100000000\n"
     ]
    }
   ],
   "source": [
    "print(first_edge**2)"
   ]
  },
  {
   "cell_type": "code",
   "execution_count": 31,
   "metadata": {},
   "outputs": [
    {
     "data": {
      "text/plain": [
       "31622"
      ]
     },
     "execution_count": 31,
     "metadata": {},
     "output_type": "execute_result"
    }
   ],
   "source": [
    "edge2 = sqrt(1000000000)\n",
    "edge2"
   ]
  },
  {
   "cell_type": "code",
   "execution_count": 32,
   "metadata": {},
   "outputs": [
    {
     "name": "stdout",
     "output_type": "stream",
     "text": [
      "999950884\n"
     ]
    }
   ],
   "source": [
    "print(edge2**2)"
   ]
  },
  {
   "cell_type": "code",
   "execution_count": 34,
   "metadata": {},
   "outputs": [
    {
     "name": "stdout",
     "output_type": "stream",
     "text": [
      "1000014129\n"
     ]
    }
   ],
   "source": [
    "print((edge2+1)**2)"
   ]
  }
 ],
 "metadata": {
  "kernelspec": {
   "display_name": "Python 3",
   "language": "python",
   "name": "python3"
  },
  "language_info": {
   "codemirror_mode": {
    "name": "ipython",
    "version": 3
   },
   "file_extension": ".py",
   "mimetype": "text/x-python",
   "name": "python",
   "nbconvert_exporter": "python",
   "pygments_lexer": "ipython3",
   "version": "3.7.4"
  }
 },
 "nbformat": 4,
 "nbformat_minor": 2
}
