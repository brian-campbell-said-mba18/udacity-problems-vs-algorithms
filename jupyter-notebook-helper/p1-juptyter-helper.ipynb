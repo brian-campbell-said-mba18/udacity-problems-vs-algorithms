{
 "cells": [
  {
   "cell_type": "markdown",
   "metadata": {},
   "source": [
    "# Problem 1 Jupyter Helper"
   ]
  },
  {
   "cell_type": "code",
   "execution_count": 8,
   "metadata": {},
   "outputs": [],
   "source": [
    "def sqrt(number):\n",
    "    '''\n",
    "    Function Purpose: The purpose of this function is to find the square root rounded down to the\n",
    "        nearest integer for a number, the argument.\n",
    "        \n",
    "        Argument: An integer value greater than or equal to 0, AKA number.\n",
    "        \n",
    "        Returns: The square root rounded down to the nearest integer.\n",
    "    '''\n",
    "    # These assertion errors assert that the argument, number is both greater than or equal to 0\n",
    "    # and that the number is an interger.\n",
    "    assert type(number) == int, \"The value must be an integer\"\n",
    "    assert number >= 0, \"The number must be greater than or equal to 0\"\n",
    "    \n",
    "    \n",
    "    # If the number is 0, return 0.\n",
    "    if number == 0:\n",
    "        return 0\n",
    "    # If the number is greater than or equal to 1 but less than 4, return 1.\n",
    "    if (number >= 1) and (number < 4):\n",
    "        return 1\n",
    "    \n",
    "    # This finds a fraction of the range of 0 to n (the number) to search for the square root. \n",
    "    # Only the square root of four is equal to half of the number it is a square root of. Any\n",
    "    # number greater than four will have a square root less than its median.\n",
    "    # This while loop starts with the median, upper, and the first quartile, lower. While\n",
    "    # both upper^2 and lower^2 are greater than the number, the while loop keeps going, dividing\n",
    "    # upper and lower by 2 after each iteration. Once lower^2 is less than or equal to the number, the \n",
    "    # while loop breaks.\n",
    "    upper = number // 2\n",
    "    lower = upper // 2\n",
    "    while upper**2 > number:\n",
    "        if lower**2 <= number:\n",
    "            break\n",
    "        upper = lower\n",
    "        lower = upper // 2\n",
    "    \n",
    "    # If the number == 4, the square root will be upper, the median.\n",
    "    if upper**2 == number:\n",
    "        return upper\n",
    "    \n",
    "    # If the square root is lower, lower is returned.\n",
    "    if lower**2 == number:\n",
    "        return lower\n",
    "    \n",
    "    # If upper and lower are not the square root, then a list is created, possible_sqrts, that\n",
    "    # include all number from range[lower, upper] inclusively.\n",
    "    possible_sqrts = []\n",
    "    for i in range (lower, upper + 1, 1):\n",
    "        possible_sqrts.append(i)\n",
    "    \n",
    "    # The while loop below starts with the very last item in the possible_sqrts list and works\n",
    "    # backwards until the possible_answer^2 is not > the target number.\n",
    "    the_slice = -1\n",
    "    possible_answer = possible_sqrts[the_slice]\n",
    "    while possible_answer**2 > number:\n",
    "        the_slice -= 1\n",
    "        possible_answer = possible_sqrts[the_slice]\n",
    "    \n",
    "    # Once the while loop breaks, the answer is returned.\n",
    "    return possible_answer"
   ]
  },
  {
   "cell_type": "code",
   "execution_count": 9,
   "metadata": {
    "scrolled": true
   },
   "outputs": [
    {
     "name": "stdout",
     "output_type": "stream",
     "text": [
      "Pass\n",
      "Pass\n",
      "Pass\n",
      "Pass\n",
      "Pass\n"
     ]
    }
   ],
   "source": [
    "print (\"Pass\" if  (3 == sqrt(9)) else \"Fail\")\n",
    "print (\"Pass\" if  (0 == sqrt(0)) else \"Fail\")\n",
    "print (\"Pass\" if  (4 == sqrt(16)) else \"Fail\")\n",
    "print (\"Pass\" if  (1 == sqrt(1)) else \"Fail\")\n",
    "print (\"Pass\" if  (5 == sqrt(27)) else \"Fail\")"
   ]
  },
  {
   "cell_type": "code",
   "execution_count": 10,
   "metadata": {},
   "outputs": [
    {
     "data": {
      "text/plain": [
       "10000"
      ]
     },
     "execution_count": 10,
     "metadata": {},
     "output_type": "execute_result"
    }
   ],
   "source": [
    "first_edge = sqrt(100000000)\n",
    "first_edge"
   ]
  },
  {
   "cell_type": "code",
   "execution_count": 11,
   "metadata": {},
   "outputs": [
    {
     "name": "stdout",
     "output_type": "stream",
     "text": [
      "100000000\n"
     ]
    }
   ],
   "source": [
    "print(first_edge**2)"
   ]
  },
  {
   "cell_type": "code",
   "execution_count": 12,
   "metadata": {},
   "outputs": [
    {
     "data": {
      "text/plain": [
       "31622"
      ]
     },
     "execution_count": 12,
     "metadata": {},
     "output_type": "execute_result"
    }
   ],
   "source": [
    "edge2 = sqrt(1000000000)\n",
    "edge2"
   ]
  },
  {
   "cell_type": "code",
   "execution_count": 13,
   "metadata": {},
   "outputs": [
    {
     "name": "stdout",
     "output_type": "stream",
     "text": [
      "999950884\n"
     ]
    }
   ],
   "source": [
    "print(edge2**2)"
   ]
  },
  {
   "cell_type": "code",
   "execution_count": 14,
   "metadata": {},
   "outputs": [
    {
     "name": "stdout",
     "output_type": "stream",
     "text": [
      "1000014129\n"
     ]
    }
   ],
   "source": [
    "print((edge2+1)**2)"
   ]
  }
 ],
 "metadata": {
  "kernelspec": {
   "display_name": "Python 3",
   "language": "python",
   "name": "python3"
  },
  "language_info": {
   "codemirror_mode": {
    "name": "ipython",
    "version": 3
   },
   "file_extension": ".py",
   "mimetype": "text/x-python",
   "name": "python",
   "nbconvert_exporter": "python",
   "pygments_lexer": "ipython3",
   "version": "3.7.4"
  }
 },
 "nbformat": 4,
 "nbformat_minor": 2
}
